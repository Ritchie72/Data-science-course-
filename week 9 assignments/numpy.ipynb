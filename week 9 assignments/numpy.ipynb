{
 "cells": [
  {
   "cell_type": "code",
   "execution_count": 1,
   "id": "2cf19fb1-180c-495d-80c0-0aacfb2fdcad",
   "metadata": {},
   "outputs": [],
   "source": [
    "import numpy as np"
   ]
  },
  {
   "cell_type": "code",
   "execution_count": 3,
   "id": "600279c0-1128-4317-80a6-d497193ebc05",
   "metadata": {},
   "outputs": [],
   "source": [
    "list = ['1','2','3','4','5']"
   ]
  },
  {
   "cell_type": "code",
   "execution_count": 5,
   "id": "b672b2c5-7500-42c9-a3d5-5bdec3408110",
   "metadata": {},
   "outputs": [],
   "source": [
    "array_list = np.array(object = list)"
   ]
  },
  {
   "cell_type": "code",
   "execution_count": 7,
   "id": "87663b01-2400-4008-b0d0-49eb992316da",
   "metadata": {},
   "outputs": [
    {
     "data": {
      "text/plain": [
       "list"
      ]
     },
     "execution_count": 7,
     "metadata": {},
     "output_type": "execute_result"
    }
   ],
   "source": [
    "type(list)"
   ]
  },
  {
   "cell_type": "code",
   "execution_count": 9,
   "id": "e8089ea9-3730-4cdc-9b7c-c76061b6dff9",
   "metadata": {},
   "outputs": [
    {
     "data": {
      "text/plain": [
       "numpy.ndarray"
      ]
     },
     "execution_count": 9,
     "metadata": {},
     "output_type": "execute_result"
    }
   ],
   "source": [
    "type(array_list)"
   ]
  },
  {
   "cell_type": "code",
   "execution_count": 11,
   "id": "a033668c-bbaf-41b4-93d0-295674ff7be7",
   "metadata": {},
   "outputs": [],
   "source": [
    "# There is a difference in the type as one of them is an array and the other is a list"
   ]
  },
  {
   "cell_type": "markdown",
   "id": "41da5676-9ce3-4772-b4c4-4e503cd73fb9",
   "metadata": {},
   "source": [
    "## Q2. Write a code to print the data type of each and every element of both the variables list_ and arra_list."
   ]
  },
  {
   "cell_type": "code",
   "execution_count": 16,
   "id": "1d34b8ce-590d-4967-a16b-365a0f6042cd",
   "metadata": {},
   "outputs": [
    {
     "name": "stdout",
     "output_type": "stream",
     "text": [
      "<class 'str'>\n",
      "<class 'str'>\n",
      "<class 'str'>\n",
      "<class 'str'>\n",
      "<class 'str'>\n"
     ]
    }
   ],
   "source": [
    "for i in range(len(list)):\n",
    "    print(type(list[i]))"
   ]
  },
  {
   "cell_type": "code",
   "execution_count": 20,
   "id": "83f6a3c6-d1ce-40c6-9786-be4f41996ce9",
   "metadata": {},
   "outputs": [
    {
     "name": "stdout",
     "output_type": "stream",
     "text": [
      "<class 'numpy.str_'>\n",
      "<class 'numpy.str_'>\n",
      "<class 'numpy.str_'>\n",
      "<class 'numpy.str_'>\n",
      "<class 'numpy.str_'>\n"
     ]
    }
   ],
   "source": [
    "for i in range(len(array_list)):\n",
    "    print(type(array_list[i]))"
   ]
  },
  {
   "cell_type": "markdown",
   "id": "d4465b6b-0fc7-4b2f-b74d-89d4f5a90933",
   "metadata": {},
   "source": [
    "## Q3. Considering the following changes in the variable, array_list:"
   ]
  },
  {
   "cell_type": "code",
   "execution_count": 23,
   "id": "5a6ec00c-f17d-4652-930a-92229d5616c4",
   "metadata": {},
   "outputs": [],
   "source": [
    "array_list = np.array(object = list,dtype = int)"
   ]
  },
  {
   "cell_type": "code",
   "execution_count": 25,
   "id": "5b9ec899-3a2a-4aad-9409-09f28b158b9b",
   "metadata": {},
   "outputs": [
    {
     "data": {
      "text/plain": [
       "array([1, 2, 3, 4, 5])"
      ]
     },
     "execution_count": 25,
     "metadata": {},
     "output_type": "execute_result"
    }
   ],
   "source": [
    "array_list"
   ]
  },
  {
   "cell_type": "code",
   "execution_count": 27,
   "id": "463f0478-fbe2-4328-9ef2-7798c05f087c",
   "metadata": {},
   "outputs": [
    {
     "name": "stdout",
     "output_type": "stream",
     "text": [
      "<class 'str'>\n",
      "<class 'str'>\n",
      "<class 'str'>\n",
      "<class 'str'>\n",
      "<class 'str'>\n"
     ]
    }
   ],
   "source": [
    "for i in range(len(list)):\n",
    "    print(type(list[i]))"
   ]
  },
  {
   "cell_type": "code",
   "execution_count": 29,
   "id": "0929cacf-f93e-4c86-a9f0-98eee127ecc3",
   "metadata": {},
   "outputs": [
    {
     "name": "stdout",
     "output_type": "stream",
     "text": [
      "<class 'numpy.int32'>\n",
      "<class 'numpy.int32'>\n",
      "<class 'numpy.int32'>\n",
      "<class 'numpy.int32'>\n",
      "<class 'numpy.int32'>\n"
     ]
    }
   ],
   "source": [
    "for i in range(len(array_list)):\n",
    "    print(type(array_list[i]))"
   ]
  },
  {
   "cell_type": "code",
   "execution_count": 31,
   "id": "a6cc351c-6f20-429e-a6b6-bb9dc087c4f4",
   "metadata": {},
   "outputs": [],
   "source": [
    "## There is a difference in the datatype as one is a string and other is an int"
   ]
  },
  {
   "cell_type": "markdown",
   "id": "3fc92a24-67b7-4547-aedc-1a9b62d232b7",
   "metadata": {},
   "source": [
    "## Q4. Write a code to find the following characteristics of variable, num_array:"
   ]
  },
  {
   "cell_type": "code",
   "execution_count": 34,
   "id": "ad7b988f-6e0e-4475-b58d-c4392e34a9e1",
   "metadata": {},
   "outputs": [],
   "source": [
    "import numpy as np\n",
    "num_list = [[1,2,3],[4,5,6]]\n",
    "num_array = np.array(object = num_list)"
   ]
  },
  {
   "cell_type": "code",
   "execution_count": 36,
   "id": "2f61e40a-e236-4a0a-88dc-e3c235b043ff",
   "metadata": {},
   "outputs": [
    {
     "data": {
      "text/plain": [
       "(2, 3)"
      ]
     },
     "execution_count": 36,
     "metadata": {},
     "output_type": "execute_result"
    }
   ],
   "source": [
    "num_array.shape"
   ]
  },
  {
   "cell_type": "code",
   "execution_count": 38,
   "id": "9472a6f7-75ef-485e-a579-07d57722a235",
   "metadata": {},
   "outputs": [
    {
     "data": {
      "text/plain": [
       "6"
      ]
     },
     "execution_count": 38,
     "metadata": {},
     "output_type": "execute_result"
    }
   ],
   "source": [
    "num_array.size"
   ]
  },
  {
   "cell_type": "markdown",
   "id": "d73db512-0860-4cb3-8ff3-ad0aa6b370e8",
   "metadata": {},
   "source": [
    "## Q5. Write a code to create numpy array of 3*3 matrix containing zeros only, using a numpy array creation function."
   ]
  },
  {
   "cell_type": "code",
   "execution_count": 51,
   "id": "c5007831-c9a0-4aab-9b9d-ad431c5c0860",
   "metadata": {},
   "outputs": [],
   "source": [
    "arr =np.fromfunction(lambda i,j:0*(i+j), (3,3))"
   ]
  },
  {
   "cell_type": "code",
   "execution_count": 53,
   "id": "0d60548b-05a4-4e2e-ada0-4f4f096ac9ec",
   "metadata": {},
   "outputs": [
    {
     "data": {
      "text/plain": [
       "array([[0., 0., 0.],\n",
       "       [0., 0., 0.],\n",
       "       [0., 0., 0.]])"
      ]
     },
     "execution_count": 53,
     "metadata": {},
     "output_type": "execute_result"
    }
   ],
   "source": [
    "arr"
   ]
  },
  {
   "cell_type": "code",
   "execution_count": 55,
   "id": "4b10dced-ce98-4919-a94f-1a066d62c868",
   "metadata": {},
   "outputs": [],
   "source": [
    "## Q6. Create an identity matrix of shape (5,5) using numpy functions? [Hint: An identity matrix is a matrix containing 1 diagonally and other elements will be 0.]"
   ]
  },
  {
   "cell_type": "code",
   "execution_count": 61,
   "id": "431d2e01-adee-4eec-8ac3-9048d0c8b5d4",
   "metadata": {},
   "outputs": [],
   "source": [
    "arr1 = np.diag([1,1,1,1,1])"
   ]
  },
  {
   "cell_type": "code",
   "execution_count": 63,
   "id": "345fcd72-1e9d-4022-9e1e-9a47cd089a79",
   "metadata": {},
   "outputs": [
    {
     "data": {
      "text/plain": [
       "array([[1, 0, 0, 0, 0],\n",
       "       [0, 1, 0, 0, 0],\n",
       "       [0, 0, 1, 0, 0],\n",
       "       [0, 0, 0, 1, 0],\n",
       "       [0, 0, 0, 0, 1]])"
      ]
     },
     "execution_count": 63,
     "metadata": {},
     "output_type": "execute_result"
    }
   ],
   "source": [
    "arr1"
   ]
  }
 ],
 "metadata": {
  "kernelspec": {
   "display_name": "Python 3 (ipykernel)",
   "language": "python",
   "name": "python3"
  },
  "language_info": {
   "codemirror_mode": {
    "name": "ipython",
    "version": 3
   },
   "file_extension": ".py",
   "mimetype": "text/x-python",
   "name": "python",
   "nbconvert_exporter": "python",
   "pygments_lexer": "ipython3",
   "version": "3.12.4"
  }
 },
 "nbformat": 4,
 "nbformat_minor": 5
}
