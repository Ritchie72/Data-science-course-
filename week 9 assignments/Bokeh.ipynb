{
 "cells": [
  {
   "cell_type": "markdown",
   "id": "fa81dfe0-b896-4a0a-a5f1-0ab355f24d36",
   "metadata": {},
   "source": [
    "## Q1. How can you create a Bokeh plot using Python code?"
   ]
  },
  {
   "cell_type": "markdown",
   "id": "1daa8a56-c25f-4b79-a1ae-a071c713627c",
   "metadata": {},
   "source": [
    "1] Install bokeh\n",
    "2] Create a simple plot\n",
    "3] It will generate an HTML file containing the Bokeh plot."
   ]
  },
  {
   "cell_type": "code",
   "execution_count": 16,
   "id": "31dc0478-4225-4176-9aa0-f3e544533da4",
   "metadata": {},
   "outputs": [],
   "source": [
    "from bokeh.plotting import figure, show\n",
    "from bokeh.io import output_file\n",
    "output_file(\"simple_plot.html\")\n",
    "p = figure(title=\"Simple Bokeh Plot\", x_axis_label=\"X-Axis\", y_axis_label=\"Y-Axis\")\n",
    "p.line([1, 2, 3, 4, 5], [6, 7, 2, 4, 5], line_width=2)\n",
    "show(p)"
   ]
  },
  {
   "cell_type": "markdown",
   "id": "90681633-709b-4c9e-970b-ad99b62a761b",
   "metadata": {},
   "source": [
    "## Q2. What are glyphs in Bokeh, and how can you add them to a Bokeh plot? Explain with an example."
   ]
  },
  {
   "cell_type": "markdown",
   "id": "e716b9c5-0d03-4ad8-a8a8-286e6b92c6b7",
   "metadata": {},
   "source": [
    "In Bokeh, glyphs are the visual shapes that are drawn to represent your data, such as circles, lines,rectangles or patches."
   ]
  },
  {
   "cell_type": "code",
   "execution_count": 19,
   "id": "73d1427a-946b-440e-ab42-b2a941eaa0e7",
   "metadata": {},
   "outputs": [
    {
     "name": "stderr",
     "output_type": "stream",
     "text": [
      "BokehDeprecationWarning: 'circle() method with size value' was deprecated in Bokeh 3.4.0 and will be removed, use 'scatter(size=...) instead' instead.\n"
     ]
    }
   ],
   "source": [
    "from bokeh.plotting import figure, show\n",
    "from bokeh.io import output_file\n",
    "output_file(\"glyph_example.html\")\n",
    "p = figure(title=\"Glyph Example\", x_axis_label=\"X\", y_axis_label=\"Y\")\n",
    "p.circle([1, 2, 3, 4], [4, 3, 2, 1], size=10, color=\"navy\", alpha=0.5)\n",
    "p.line([1, 2, 3, 4], [4, 3, 2, 1], line_width=2, color=\"green\")\n",
    "show(p)"
   ]
  },
  {
   "cell_type": "markdown",
   "id": "c4c619c6-88ca-4379-9e43-fbfa2a00e314",
   "metadata": {},
   "source": [
    "## Q3. How can you customize the appearance of a Bokeh plot, including the axes, title, and legend?"
   ]
  },
  {
   "cell_type": "code",
   "execution_count": 21,
   "id": "9fdac0aa-ffd2-41d6-9ac8-f57b9d7cfae6",
   "metadata": {},
   "outputs": [],
   "source": [
    "from bokeh.plotting import figure, show\n",
    "from bokeh.io import output_file\n",
    "output_file(\"customized_plot.html\")\n",
    "p = figure(title=\"Customized Plot\", x_axis_label=\"X-Axis\", y_axis_label=\"Y-Axis\")\n",
    "p.line([1, 2, 3, 4], [1, 4, 9, 16], legend_label=\"Line\", line_width=2, line_color=\"blue\")\n",
    "p.title.text_color = \"green\"\n",
    "p.title.text_font_size = \"16pt\"\n",
    "p.xaxis.axis_label_text_color = \"red\"\n",
    "p.yaxis.axis_label_text_font_style = \"italic\"\n",
    "p.legend.label_text_font_size = \"12pt\"\n",
    "show(p)"
   ]
  },
  {
   "cell_type": "markdown",
   "id": "6ab61e54-fce4-4068-bfdb-412ddd315efd",
   "metadata": {},
   "source": [
    "## Q4. What is a Bokeh server, and how can you use it to create interactive plots that can be updated in real time?"
   ]
  },
  {
   "cell_type": "markdown",
   "id": "6a2ee432-06e6-4f15-8942-26a385aac89d",
   "metadata": {},
   "source": [
    "The Bokeh server is a powerful feature of Bokeh that allows the creation of interactive, real-time plots that can update dynamically based on user input or live data streams. It allows Python callbacks to be run in response to user actions."
   ]
  },
  {
   "cell_type": "markdown",
   "id": "9096939e-4fda-41b3-9c38-c183e40073cb",
   "metadata": {},
   "source": [
    "The Bokeh server will automatically open a web browser window showing the interactive plot, which updates based on the slider input."
   ]
  },
  {
   "cell_type": "markdown",
   "id": "42b982c6-a1ff-4ab7-9fa2-1ab004d373d3",
   "metadata": {},
   "source": [
    "## Q5. How can you embed a Bokeh plot into a web page or dashboard using Flask or Django?"
   ]
  },
  {
   "cell_type": "markdown",
   "id": "26d0526a-4012-4321-9684-d0df73342878",
   "metadata": {},
   "source": [
    "Bokeh plots can be embedded into web applications like Flask or Django using the components() function, which generates HTML and JavaScript to include the plots."
   ]
  }
 ],
 "metadata": {
  "kernelspec": {
   "display_name": "Python 3 (ipykernel)",
   "language": "python",
   "name": "python3"
  },
  "language_info": {
   "codemirror_mode": {
    "name": "ipython",
    "version": 3
   },
   "file_extension": ".py",
   "mimetype": "text/x-python",
   "name": "python",
   "nbconvert_exporter": "python",
   "pygments_lexer": "ipython3",
   "version": "3.12.4"
  }
 },
 "nbformat": 4,
 "nbformat_minor": 5
}
