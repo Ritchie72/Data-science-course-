{
 "cells": [
  {
   "cell_type": "code",
   "execution_count": 1,
   "id": "54076523",
   "metadata": {},
   "outputs": [
    {
     "name": "stdout",
     "output_type": "stream",
     "text": [
      "Requirement already satisfied: pandas in c:\\users\\91951\\anaconda3\\lib\\site-packages (1.5.3)\n",
      "Requirement already satisfied: pytz>=2020.1 in c:\\users\\91951\\anaconda3\\lib\\site-packages (from pandas) (2022.7)\n",
      "Requirement already satisfied: python-dateutil>=2.8.1 in c:\\users\\91951\\anaconda3\\lib\\site-packages (from pandas) (2.8.2)\n",
      "Requirement already satisfied: numpy>=1.21.0 in c:\\users\\91951\\anaconda3\\lib\\site-packages (from pandas) (1.23.5)\n",
      "Requirement already satisfied: six>=1.5 in c:\\users\\91951\\anaconda3\\lib\\site-packages (from python-dateutil>=2.8.1->pandas) (1.16.0)\n",
      "Note: you may need to restart the kernel to use updated packages.\n"
     ]
    }
   ],
   "source": [
    "pip install pandas"
   ]
  },
  {
   "cell_type": "code",
   "execution_count": 24,
   "id": "bd7f6cf0",
   "metadata": {},
   "outputs": [],
   "source": [
    "import pandas as pd"
   ]
  },
  {
   "cell_type": "markdown",
   "id": "d6fb4f90",
   "metadata": {},
   "source": [
    "# Create a Pandas Series that contains the following data: 4, 8, 15, 16, 23, and 42. Then, print the series."
   ]
  },
  {
   "cell_type": "code",
   "execution_count": 25,
   "id": "49fd7da1",
   "metadata": {},
   "outputs": [],
   "source": [
    "list1 = [4,8,15,16,23,42]\n",
    "df1 = pd.Series(list1)"
   ]
  },
  {
   "cell_type": "code",
   "execution_count": 26,
   "id": "d67e3d47",
   "metadata": {},
   "outputs": [
    {
     "name": "stdout",
     "output_type": "stream",
     "text": [
      "0     4\n",
      "1     8\n",
      "2    15\n",
      "3    16\n",
      "4    23\n",
      "5    42\n",
      "dtype: int64\n"
     ]
    }
   ],
   "source": [
    "print(df1)"
   ]
  },
  {
   "cell_type": "markdown",
   "id": "b0618b96",
   "metadata": {},
   "source": [
    "# Create a variable of list type containing 10 elements in it, and apply pandas.Series function on the variable print it."
   ]
  },
  {
   "cell_type": "code",
   "execution_count": 27,
   "id": "8b2d0008",
   "metadata": {},
   "outputs": [],
   "source": [
    "list2 = [1,'harshal',2,3,4,5,3.14,100,'gajbhiye','hello']\n",
    "df2 = pd.Series(list2)"
   ]
  },
  {
   "cell_type": "code",
   "execution_count": 28,
   "id": "acafc32c",
   "metadata": {},
   "outputs": [
    {
     "name": "stdout",
     "output_type": "stream",
     "text": [
      "0           1\n",
      "1     harshal\n",
      "2           2\n",
      "3           3\n",
      "4           4\n",
      "5           5\n",
      "6        3.14\n",
      "7         100\n",
      "8    gajbhiye\n",
      "9       hello\n",
      "dtype: object\n"
     ]
    }
   ],
   "source": [
    "print(df2)"
   ]
  },
  {
   "cell_type": "markdown",
   "id": "d7a43ebd",
   "metadata": {},
   "source": [
    "# Create a Pandas DataFrame that contains the following data:"
   ]
  },
  {
   "cell_type": "code",
   "execution_count": 29,
   "id": "ed79df30",
   "metadata": {},
   "outputs": [],
   "source": [
    "data = [['Alice',25,'Female'],['Bob',30,'Male'],['Claire',27,'Female']]\n"
   ]
  },
  {
   "cell_type": "code",
   "execution_count": 30,
   "id": "478a6cda",
   "metadata": {},
   "outputs": [],
   "source": [
    "df3 = pd.DataFrame(data,columns=['Name','Age','Gender'])"
   ]
  },
  {
   "cell_type": "code",
   "execution_count": 35,
   "id": "3f94aed6",
   "metadata": {},
   "outputs": [
    {
     "name": "stdout",
     "output_type": "stream",
     "text": [
      "     Name  Age  Gender\n",
      "0   Alice   25  Female\n",
      "1     Bob   30    Male\n",
      "2  Claire   27  Female\n"
     ]
    }
   ],
   "source": [
    "print(df3)"
   ]
  },
  {
   "cell_type": "markdown",
   "id": "7fdf7cdb",
   "metadata": {},
   "source": [
    "# What is ‘DataFrame’ in pandas and how is it different from pandas.series? Explain with an example"
   ]
  },
  {
   "cell_type": "markdown",
   "id": "f4eac12c",
   "metadata": {},
   "source": [
    "In pandas, a DataFrame is a two-dimensional labeled data structure that consists of columns and rows. similar to a table.A pandas Series is a one-dimensional labeled array that can hold any data type.It is similar to a single column in a DataFrame or a dictionary in Python. "
   ]
  },
  {
   "cell_type": "markdown",
   "id": "2b5ffce9",
   "metadata": {},
   "source": [
    "#  What are some common functions you can use to manipulate data in a Pandas DataFrame? Can you give an example of when you might use one of these functions?"
   ]
  },
  {
   "cell_type": "markdown",
   "id": "a87cc3a0",
   "metadata": {},
   "source": [
    "1] Read data\n",
    "2] Columns\n",
    "3] Head\n",
    "4] Tail\n",
    "5] to (to save the data)\n",
    "6] Shape,size,info\n",
    "7] Describe"
   ]
  },
  {
   "cell_type": "markdown",
   "id": "d4f2d6e7",
   "metadata": {},
   "source": [
    "1] Read: We can read data in pandas data frame as read_csv(). Two most used data read formats are csv and excel.\n",
    "2] Columns : To know the names of all the variables in a data frame, we can use df.columns.\n",
    "3] Head : To see the data frame we can use df.head(). Head returns the first rows, if no input is given it will always show above 5 rows.\n",
    "4] Tail : To see the data from tail we can use the tail function it will give last 5 rows if no input is given.\n",
    "5] to(save data) : to save the dataframe in a new file name.\n",
    "6] Shape,size ,info: Two most basic functions after reading data is to know the number of rows and columns, and to know the datatype of variables. We can use df.shape, it gives a total number of rows and then columns. df.size() returns the number of rows times number of columns in the data frame. We can also use df.info(), from that we get different information such as rows from RangeIndex, Data columns and then data type of each column. It also includes the information of non-null counts.\n",
    "7] Describe: Then to understand basic statistics of variables we can use df.describe(). It will give you count, mean, standard deviation, and also  number summary."
   ]
  },
  {
   "cell_type": "markdown",
   "id": "acc6f543",
   "metadata": {},
   "source": [
    "# Which of the following is mutable in nature Series, DataFrame, Panel?"
   ]
  },
  {
   "cell_type": "markdown",
   "id": "66a010c6",
   "metadata": {},
   "source": [
    "In pandas, both Series and DataFrame are mutable in nature, while Panel is not. Panel represented three-dimensional data, similar to a collection of DataFrames, and had axes labeled as items, major_axis, and minor_axis.Series and DataFrame are mutable in pandas, allowing you to modify their values and structure. However, the Panel object is deprecated and not mutable in nature."
   ]
  },
  {
   "cell_type": "markdown",
   "id": "fabcbe86",
   "metadata": {},
   "source": [
    "# . Create a DataFrame using multiple Series. Explain with an example"
   ]
  },
  {
   "cell_type": "code",
   "execution_count": 32,
   "id": "7086a473",
   "metadata": {},
   "outputs": [],
   "source": [
    "names = ['harshal','prajwal','raj','aniket']\n",
    "marks = [98,99,94,100]\n",
    "frame = {'Name':pd.Series(names),'Marks':pd.Series(marks)}"
   ]
  },
  {
   "cell_type": "code",
   "execution_count": 33,
   "id": "9588e324",
   "metadata": {},
   "outputs": [],
   "source": [
    "data2 = pd.DataFrame(frame)"
   ]
  },
  {
   "cell_type": "code",
   "execution_count": 34,
   "id": "8b176801",
   "metadata": {},
   "outputs": [
    {
     "name": "stdout",
     "output_type": "stream",
     "text": [
      "      Name  Marks\n",
      "0  harshal     98\n",
      "1  prajwal     99\n",
      "2      raj     94\n",
      "3   aniket    100\n"
     ]
    }
   ],
   "source": [
    "print(data2)"
   ]
  }
 ],
 "metadata": {
  "kernelspec": {
   "display_name": "Python 3 (ipykernel)",
   "language": "python",
   "name": "python3"
  },
  "language_info": {
   "codemirror_mode": {
    "name": "ipython",
    "version": 3
   },
   "file_extension": ".py",
   "mimetype": "text/x-python",
   "name": "python",
   "nbconvert_exporter": "python",
   "pygments_lexer": "ipython3",
   "version": "3.12.4"
  }
 },
 "nbformat": 4,
 "nbformat_minor": 5
}
