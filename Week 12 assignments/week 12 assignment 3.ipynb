{
 "cells": [
  {
   "cell_type": "markdown",
   "id": "aa75d489-2ab0-45cb-a0ac-2f10cd17cb5c",
   "metadata": {},
   "source": [
    "## Q1. Explain the assumptions required to use ANOVA and provide examples of violations that could impact the validity of the results."
   ]
  },
  {
   "cell_type": "markdown",
   "id": "3a110216-cb2a-4c4b-89b9-aa1b5d595900",
   "metadata": {},
   "source": [
    "ANOVA assumes independence of observations, normality of the residuals, and homogeneity of variances across groups. Violations, such as correlated samples, non-normal distributions, or unequal variances, can lead to inaccurate F-tests and misleading conclusions."
   ]
  },
  {
   "cell_type": "markdown",
   "id": "9307e3fa-5964-45ad-b817-1f3b24702a4a",
   "metadata": {},
   "source": [
    "## Q2. What are the three types of ANOVA, and in what situations would each be used?"
   ]
  },
  {
   "cell_type": "markdown",
   "id": "763c6ceb-2d55-4408-b8b1-a3422160c148",
   "metadata": {},
   "source": [
    "The three types of ANOVA are one-way ANOVA (used when comparing means across three or more independent groups), two-way ANOVA (used when examining the interaction between two independent variables and their effects on a dependent variable), and repeated measures ANOVA (used for analyzing the same subjects across multiple conditions or time points). Each type is selected based on the design of the experiment and the nature of the data being analyzed."
   ]
  },
  {
   "cell_type": "markdown",
   "id": "1de5a3ae-e069-4ed8-a4e7-3cf2609b30db",
   "metadata": {},
   "source": [
    "## Q3. What is the partitioning of variance in ANOVA, and why is it important to understand this concept?"
   ]
  },
  {
   "cell_type": "markdown",
   "id": "9cd996aa-7206-4328-b19f-ad0e5092509c",
   "metadata": {},
   "source": [
    "Partitioning of variance in ANOVA involves breaking down the total variance into components attributable to different sources, such as between-group variance and within-group variance. Understanding this concept is crucial as it helps determine the extent to which group differences are significant relative to the natural variability within groups."
   ]
  },
  {
   "cell_type": "markdown",
   "id": "aa88fadc-333a-43be-8ae7-0f7d95139cb6",
   "metadata": {},
   "source": [
    "## Q4. How would you calculate the total sum of squares (SST), explained sum of squares (SSE), and residual sum of squares (SSR) in a one-way ANOVA using Python?"
   ]
  },
  {
   "cell_type": "code",
   "execution_count": 6,
   "id": "355778e1-55e3-422e-aebc-c83aea32f413",
   "metadata": {},
   "outputs": [
    {
     "ename": "NameError",
     "evalue": "name 'group1' is not defined",
     "output_type": "error",
     "traceback": [
      "\u001b[1;31m---------------------------------------------------------------------------\u001b[0m",
      "\u001b[1;31mNameError\u001b[0m                                 Traceback (most recent call last)",
      "Cell \u001b[1;32mIn[6], line 4\u001b[0m\n\u001b[0;32m      1\u001b[0m \u001b[38;5;28;01mimport\u001b[39;00m \u001b[38;5;21;01mnumpy\u001b[39;00m \u001b[38;5;28;01mas\u001b[39;00m \u001b[38;5;21;01mnp\u001b[39;00m\n\u001b[0;32m      2\u001b[0m \u001b[38;5;28;01mfrom\u001b[39;00m \u001b[38;5;21;01mscipy\u001b[39;00m\u001b[38;5;21;01m.\u001b[39;00m\u001b[38;5;21;01mstats\u001b[39;00m \u001b[38;5;28;01mimport\u001b[39;00m f_oneway\n\u001b[1;32m----> 4\u001b[0m data \u001b[38;5;241m=\u001b[39m [group1, group2, group3] \n\u001b[0;32m      5\u001b[0m grand_mean \u001b[38;5;241m=\u001b[39m np\u001b[38;5;241m.\u001b[39mmean(np\u001b[38;5;241m.\u001b[39mconcatenate(data))\n\u001b[0;32m      6\u001b[0m SST \u001b[38;5;241m=\u001b[39m np\u001b[38;5;241m.\u001b[39msum((np\u001b[38;5;241m.\u001b[39mconcatenate(data) \u001b[38;5;241m-\u001b[39m grand_mean) \u001b[38;5;241m*\u001b[39m\u001b[38;5;241m*\u001b[39m \u001b[38;5;241m2\u001b[39m)\n",
      "\u001b[1;31mNameError\u001b[0m: name 'group1' is not defined"
     ]
    }
   ],
   "source": [
    "import numpy as np\n",
    "from scipy.stats import f_oneway\n",
    "\n",
    "data = [group1, group2, group3] \n",
    "grand_mean = np.mean(np.concatenate(data))\n",
    "SST = np.sum((np.concatenate(data) - grand_mean) ** 2)\n",
    "SSE = np.sum([len(group) * (np.mean(group) - grand_mean) ** 2 for group in data])\n",
    "SSR = SST - SSE\n"
   ]
  },
  {
   "cell_type": "markdown",
   "id": "ce9fb5c4-d66c-4a8d-b06f-99e7cd854d9c",
   "metadata": {},
   "source": [
    "## Q5. In a two-way ANOVA, how would you calculate the main effects and interaction effects using Python?"
   ]
  },
  {
   "cell_type": "code",
   "execution_count": 9,
   "id": "9acf6705-06c9-4434-bfea-6b294a678326",
   "metadata": {},
   "outputs": [
    {
     "ename": "NameError",
     "evalue": "name 'dependent_variable_data' is not defined",
     "output_type": "error",
     "traceback": [
      "\u001b[1;31m---------------------------------------------------------------------------\u001b[0m",
      "\u001b[1;31mNameError\u001b[0m                                 Traceback (most recent call last)",
      "Cell \u001b[1;32mIn[9], line 5\u001b[0m\n\u001b[0;32m      2\u001b[0m \u001b[38;5;28;01mimport\u001b[39;00m \u001b[38;5;21;01mstatsmodels\u001b[39;00m\u001b[38;5;21;01m.\u001b[39;00m\u001b[38;5;21;01mapi\u001b[39;00m \u001b[38;5;28;01mas\u001b[39;00m \u001b[38;5;21;01msm\u001b[39;00m\n\u001b[0;32m      3\u001b[0m \u001b[38;5;28;01mfrom\u001b[39;00m \u001b[38;5;21;01mstatsmodels\u001b[39;00m\u001b[38;5;21;01m.\u001b[39;00m\u001b[38;5;21;01mformula\u001b[39;00m\u001b[38;5;21;01m.\u001b[39;00m\u001b[38;5;21;01mapi\u001b[39;00m \u001b[38;5;28;01mimport\u001b[39;00m ols\n\u001b[0;32m      4\u001b[0m data \u001b[38;5;241m=\u001b[39m pd\u001b[38;5;241m.\u001b[39mDataFrame({\n\u001b[1;32m----> 5\u001b[0m     \u001b[38;5;124m'\u001b[39m\u001b[38;5;124mDependentVar\u001b[39m\u001b[38;5;124m'\u001b[39m: dependent_variable_data,\n\u001b[0;32m      6\u001b[0m     \u001b[38;5;124m'\u001b[39m\u001b[38;5;124mFactor1\u001b[39m\u001b[38;5;124m'\u001b[39m: factor1_data,  \n\u001b[0;32m      7\u001b[0m     \u001b[38;5;124m'\u001b[39m\u001b[38;5;124mFactor2\u001b[39m\u001b[38;5;124m'\u001b[39m: factor2_data  \n\u001b[0;32m      8\u001b[0m })\n\u001b[0;32m     10\u001b[0m model \u001b[38;5;241m=\u001b[39m ols(\u001b[38;5;124m'\u001b[39m\u001b[38;5;124mDependentVar ~ Factor1 * Factor2\u001b[39m\u001b[38;5;124m'\u001b[39m, data\u001b[38;5;241m=\u001b[39mdata)\u001b[38;5;241m.\u001b[39mfit()\n\u001b[0;32m     11\u001b[0m anova_table \u001b[38;5;241m=\u001b[39m sm\u001b[38;5;241m.\u001b[39mstats\u001b[38;5;241m.\u001b[39manova_lm(model, typ\u001b[38;5;241m=\u001b[39m\u001b[38;5;241m2\u001b[39m)  \n",
      "\u001b[1;31mNameError\u001b[0m: name 'dependent_variable_data' is not defined"
     ]
    }
   ],
   "source": [
    "import pandas as pd\n",
    "import statsmodels.api as sm\n",
    "from statsmodels.formula.api import ols\n",
    "data = pd.DataFrame({\n",
    "    'DependentVar': dependent_variable_data,\n",
    "    'Factor1': factor1_data,  \n",
    "    'Factor2': factor2_data  \n",
    "})\n",
    "\n",
    "model = ols('DependentVar ~ Factor1 * Factor2', data=data).fit()\n",
    "anova_table = sm.stats.anova_lm(model, typ=2)  \n",
    "print(anova_table)\n"
   ]
  },
  {
   "cell_type": "markdown",
   "id": "a6e03c8a-06a6-4541-bfb6-e8dee223437f",
   "metadata": {},
   "source": [
    "## Q6. Suppose you conducted a one-way ANOVA and obtained an F-statistic of 5.23 and a p-value of 0.02. What can you conclude about the differences between the groups, and how would you interpret these results?"
   ]
  },
  {
   "cell_type": "markdown",
   "id": "f214d18c-4581-4341-992e-4a264facbed3",
   "metadata": {},
   "source": [
    "With an F-statistic of 5.23 and a p-value of 0.02, you can conclude that there are statistically significant differences between the groups, as the p-value is less than the common alpha level of 0.05. This suggests that at least one group mean differs from the others, warranting further investigation through post-hoc tests to identify which groups are significantly different."
   ]
  },
  {
   "cell_type": "markdown",
   "id": "ee17bfd8-ed3b-49f4-94c1-3c28a5f10c23",
   "metadata": {},
   "source": [
    "## Q7. In a repeated measures ANOVA, how would you handle missing data, and what are the potential consequences of using different methods to handle missing data?"
   ]
  },
  {
   "cell_type": "markdown",
   "id": "4f0e8c2d-fe5e-4aca-af9d-89beebb1e702",
   "metadata": {},
   "source": [
    "In a repeated measures ANOVA, you can handle missing data by using techniques such as Last Observation Carried Forward (LOCF), multiple imputation, or mixed-effects models that can accommodate missingness. The choice of method can impact the validity of results; for instance, LOCF may bias results by not accounting for variability, while multiple imputation may provide more accurate estimates but relies on assumptions about the missing data mechanism."
   ]
  },
  {
   "cell_type": "markdown",
   "id": "bc5d93e8-7ebf-4528-a37e-7626ca9438a2",
   "metadata": {},
   "source": [
    "## Q8. What are some common post-hoc tests used after ANOVA, and when would you use each one? Provide an example of a situation where a post-hoc test might be necessary."
   ]
  },
  {
   "cell_type": "markdown",
   "id": "5decd156-3129-4639-8ed1-c073764c830a",
   "metadata": {},
   "source": [
    "Common post-hoc tests after ANOVA include Tukey's HSD (used when you want to compare all pairs of group means while controlling for Type I error), Bonferroni correction (used for a smaller number of comparisons to reduce the risk of false positives), and Scheffé's test (used for comparing complex contrasts among group means). For example, after finding significant differences in a one-way ANOVA comparing the effectiveness of three different teaching methods, a post-hoc test would be necessary to identify which specific methods differ from each other."
   ]
  },
  {
   "cell_type": "markdown",
   "id": "07cb3d03-a432-478a-b217-bf89a7c1cc83",
   "metadata": {},
   "source": [
    "## Q9. A researcher wants to compare the mean weight loss of three diets: A, B, and C. They collect data from 50 participants who were randomly assigned to one of the diets. Conduct a one-way ANOVA using Python to determine if there are any significant differences between the mean weight loss of the three diets. Report the F-statistic and p-value, and interpret the results."
   ]
  },
  {
   "cell_type": "code",
   "execution_count": 14,
   "id": "93f80359-3c81-4485-96b2-4e8ba580e506",
   "metadata": {},
   "outputs": [
    {
     "name": "stdout",
     "output_type": "stream",
     "text": [
      "F-statistic: 48.81, p-value: 0.0000\n"
     ]
    }
   ],
   "source": [
    "import numpy as np\n",
    "from scipy.stats import f_oneway\n",
    "\n",
    "diet_A = np.random.normal(loc=5, scale=1, size=50)  \n",
    "diet_B = np.random.normal(loc=7, scale=1, size=50)  \n",
    "diet_C = np.random.normal(loc=6, scale=1, size=50)  \n",
    "\n",
    "F_statistic, p_value = f_oneway(diet_A, diet_B, diet_C)\n",
    "\n",
    "print(f\"F-statistic: {F_statistic:.2f}, p-value: {p_value:.4f}\")\n"
   ]
  },
  {
   "cell_type": "markdown",
   "id": "8e106bdf-49e9-46b4-b8c7-2d07b39d2823",
   "metadata": {},
   "source": [
    "## Q10. A company wants to know if there are any significant differences in the average time it takes to complete a task using three different software programs: Program A, Program B, and Program C. They randomly assign 30 employees to one of the programs and record the time it takes each employee to complete the task. Conduct a two-way ANOVA using Python to determine if there are any main effects or interaction effects between the software programs and employee experience level (novice vs. experienced). Report the F-statistics and p-values, and interpret the results."
   ]
  },
  {
   "cell_type": "code",
   "execution_count": 16,
   "id": "8fa84407-d299-4e03-b8ba-7bf23ea3df84",
   "metadata": {},
   "outputs": [
    {
     "ename": "SyntaxError",
     "evalue": "invalid syntax (455110010.py, line 6)",
     "output_type": "error",
     "traceback": [
      "\u001b[1;36m  Cell \u001b[1;32mIn[16], line 6\u001b[1;36m\u001b[0m\n\u001b[1;33m    'Time': [/* completion times */],\u001b[0m\n\u001b[1;37m             ^\u001b[0m\n\u001b[1;31mSyntaxError\u001b[0m\u001b[1;31m:\u001b[0m invalid syntax\n"
     ]
    }
   ],
   "source": [
    "import pandas as pd\n",
    "import statsmodels.api as sm\n",
    "from statsmodels.formula.api import ols\n",
    "\n",
    "data = pd.DataFrame({\n",
    "    'Time': [/* completion times */],\n",
    "    'Program': [/* Program A, B, or C */],\n",
    "    'Experience': [/* 'Novice' or 'Experienced' */]\n",
    "})\n",
    "\n",
    "model = ols('Time ~ Program * Experience', data=data).fit()\n",
    "anova_table = sm.stats.anova_lm(model, typ=2)\n",
    "\n",
    "print(anova_table)\n"
   ]
  },
  {
   "cell_type": "markdown",
   "id": "0c14bab2-b44f-476e-9a65-bff1d69db572",
   "metadata": {},
   "source": [
    "## Q11. An educational researcher is interested in whether a new teaching method improves student test scores. They randomly assign 100 students to either the control group (traditional teaching method) or the experimental group (new teaching method) and administer a test at the end of the semester. Conduct a two-sample t-test using Python to determine if there are any significant differences in test scores between the two groups. If the results are significant, follow up with a post-hoc test to determine which group(s) differ significantly from each other."
   ]
  },
  {
   "cell_type": "code",
   "execution_count": 18,
   "id": "df189466-c53f-48ef-9a5f-ec818fe7bd1c",
   "metadata": {},
   "outputs": [
    {
     "name": "stdout",
     "output_type": "stream",
     "text": [
      "   Multiple Comparison of Means - Tukey HSD, FWER=0.05   \n",
      "=========================================================\n",
      " group1    group2    meandiff p-adj  lower  upper  reject\n",
      "---------------------------------------------------------\n",
      "Control Experimental    6.476 0.0011 2.6459 10.306   True\n",
      "---------------------------------------------------------\n"
     ]
    }
   ],
   "source": [
    "import numpy as np\n",
    "from scipy.stats import ttest_ind\n",
    "import statsmodels.api as sm\n",
    "from statsmodels.stats.multicomp import pairwise_tukeyhsd\n",
    "\n",
    "control_group = np.random.normal(loc=75, scale=10, size=50)  \n",
    "experimental_group = np.random.normal(loc=80, scale=10, size=50)  \n",
    "\n",
    "t_stat, p_value = ttest_ind(control_group, experimental_group)\n",
    "\n",
    "if p_value < 0.05:\n",
    "    all_scores = np.concatenate([control_group, experimental_group])\n",
    "    groups = ['Control'] * len(control_group) + ['Experimental'] * len(experimental_group)\n",
    "    post_hoc = pairwise_tukeyhsd(all_scores, groups)\n",
    "    print(post_hoc)\n",
    "else:\n",
    "    print(f\"T-test p-value: {p_value:.4f} (not significant)\")\n"
   ]
  },
  {
   "cell_type": "markdown",
   "id": "b44ba9e8-4a25-4f74-b5f1-0d0a5229c289",
   "metadata": {},
   "source": [
    "## Q12. A researcher wants to know if there are any significant differences in the average daily sales of three retail stores: Store A, Store B, and Store C. They randomly select 30 days and record the sales for each store on those days. Conduct a repeated measures ANOVA using Python to determine if there are any significant differences in sales between the three stores. If the results are significant, follow up with a posthoc test to determine which store(s) differ significantly from each other."
   ]
  },
  {
   "cell_type": "code",
   "execution_count": 20,
   "id": "33e99922-0ab1-4d35-b56b-a3f85f5a790c",
   "metadata": {},
   "outputs": [
    {
     "ename": "SyntaxError",
     "evalue": "invalid syntax (1216606817.py, line 7)",
     "output_type": "error",
     "traceback": [
      "\u001b[1;36m  Cell \u001b[1;32mIn[20], line 7\u001b[1;36m\u001b[0m\n\u001b[1;33m    'Sales': [/* sales data */],\u001b[0m\n\u001b[1;37m              ^\u001b[0m\n\u001b[1;31mSyntaxError\u001b[0m\u001b[1;31m:\u001b[0m invalid syntax\n"
     ]
    }
   ],
   "source": [
    "import pandas as pd\n",
    "from scipy.stats import f_oneway\n",
    "from statsmodels.stats.anova import AnovaRM\n",
    "from statsmodels.stats.multicomp import pairwise_tukeyhsd\n",
    "\n",
    "data = pd.DataFrame({\n",
    "    'Sales': [/* sales data */],\n",
    "    'Store': [/* Store A, B, C identifiers */],\n",
    "    'Day': [/* day identifiers */]\n",
    "})\n",
    "\n",
    "anova_results = AnovaRM(data, 'Sales', 'Day', within=['Store']).fit()\n",
    "print(anova_results)\n",
    "\n",
    "if anova_results.pvalue < 0.05:\n",
    "    posthoc = pairwise_tukeyhsd(data['Sales'], data['Store'])\n",
    "    print(posthoc)\n"
   ]
  }
 ],
 "metadata": {
  "kernelspec": {
   "display_name": "Python 3 (ipykernel)",
   "language": "python",
   "name": "python3"
  },
  "language_info": {
   "codemirror_mode": {
    "name": "ipython",
    "version": 3
   },
   "file_extension": ".py",
   "mimetype": "text/x-python",
   "name": "python",
   "nbconvert_exporter": "python",
   "pygments_lexer": "ipython3",
   "version": "3.12.4"
  }
 },
 "nbformat": 4,
 "nbformat_minor": 5
}
