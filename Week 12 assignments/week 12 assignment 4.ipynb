{
 "cells": [
  {
   "cell_type": "markdown",
   "id": "7bba0ea5-95e0-4a3a-8feb-dca2ef20bc36",
   "metadata": {},
   "source": [
    "## Q1. Write a Python function that takes in two arrays of data and calculates the F-value for a variance ratio test. The function should return the F-value and the corresponding p-value for the test."
   ]
  },
  {
   "cell_type": "code",
   "execution_count": 1,
   "id": "526f59b6-742c-4dc2-8aea-bf44b93f79bb",
   "metadata": {},
   "outputs": [],
   "source": [
    "import scipy.stats as stats\n",
    "\n",
    "def variance_ratio_test(array1, array2):\n",
    "    F_value = np.var(array1, ddof=1) / np.var(array2, ddof=1)\n",
    "    p_value = stats.f.cdf(F_value, len(array1)-1, len(array2)-1)\n",
    "    return F_value, 2 * min(p_value, 1 - p_value)  # Two-tailed test\n"
   ]
  },
  {
   "cell_type": "markdown",
   "id": "7897ad64-596a-4fcc-abf0-281fc26238d3",
   "metadata": {},
   "source": [
    "## Q2. Given a significance level of 0.05 and the degrees of freedom for the numerator and denominator of an F-distribution, write a Python function that returns the critical F-value for a two-tailed test."
   ]
  },
  {
   "cell_type": "code",
   "execution_count": 3,
   "id": "771d1bb9-0ceb-47e5-bd90-c887fd6bc6be",
   "metadata": {},
   "outputs": [],
   "source": [
    "import scipy.stats as stats\n",
    "\n",
    "def critical_f_value(alpha, dfn, dfd):\n",
    "    return stats.f.ppf(1 - alpha / 2, dfn, dfd)\n"
   ]
  },
  {
   "cell_type": "markdown",
   "id": "46cb5a3f-cd5c-4acb-9b83-8cc6546322f3",
   "metadata": {},
   "source": [
    "## Q3. Write a Python program that generates random samples from two normal distributions with known variances and uses an F-test to determine if the variances are equal. The program should output the Fvalue, degrees of freedom, and p-value for the test."
   ]
  },
  {
   "cell_type": "code",
   "execution_count": 5,
   "id": "3f73b7d1-d13b-423b-aa76-b322d2667469",
   "metadata": {},
   "outputs": [
    {
     "name": "stdout",
     "output_type": "stream",
     "text": [
      "F-value: 0.4980, Degrees of Freedom: 99, 99, p-value: 0.0006\n"
     ]
    }
   ],
   "source": [
    "import numpy as np\n",
    "import scipy.stats as stats\n",
    "\n",
    "sample1 = np.random.normal(loc=0, scale=2, size=100)\n",
    "sample2 = np.random.normal(loc=0, scale=3, size=100)\n",
    "\n",
    "F_value = np.var(sample1, ddof=1) / np.var(sample2, ddof=1)\n",
    "df1, df2 = len(sample1) - 1, len(sample2) - 1\n",
    "p_value = 2 * min(stats.f.cdf(F_value, df1, df2), 1 - stats.f.cdf(F_value, df1, df2))\n",
    "\n",
    "print(f\"F-value: {F_value:.4f}, Degrees of Freedom: {df1}, {df2}, p-value: {p_value:.4f}\")\n"
   ]
  },
  {
   "cell_type": "markdown",
   "id": "5161ca07-a0a8-4a2d-a88b-f6eea13ff7cc",
   "metadata": {},
   "source": [
    "## Q4.The variances of two populations are known to be 10 and 15. A sample of 12 observations is taken from each population. Conduct an F-test at the 5% significance level to determine if the variances are significantly different.\n",
    "\n"
   ]
  },
  {
   "cell_type": "code",
   "execution_count": 7,
   "id": "c5597a8c-00ad-42c3-bced-3b71580ff3d2",
   "metadata": {},
   "outputs": [
    {
     "name": "stdout",
     "output_type": "stream",
     "text": [
      "F-value: 1.5000, p-value: 0.5124\n"
     ]
    }
   ],
   "source": [
    "import scipy.stats as stats\n",
    "\n",
    "F_value = 15 / 10\n",
    "dfn, dfd = 11, 11 \n",
    "p_value = 2 * min(stats.f.cdf(F_value, dfn, dfd), 1 - stats.f.cdf(F_value, dfn, dfd))\n",
    "\n",
    "print(f\"F-value: {F_value:.4f}, p-value: {p_value:.4f}\")\n"
   ]
  },
  {
   "cell_type": "markdown",
   "id": "4c584fd1-aee6-4848-8341-ce90cdc6c664",
   "metadata": {},
   "source": [
    "## Q5. A manufacturer claims that the variance of the diameter of a certain product is 0.005. A sample of 25 products is taken, and the sample variance is found to be 0.006. Conduct an F-test at the 1% significance level to determine if the claim is justified."
   ]
  },
  {
   "cell_type": "code",
   "execution_count": 9,
   "id": "a04820ef-038f-4d24-95b6-e96ccafbc368",
   "metadata": {},
   "outputs": [
    {
     "name": "stdout",
     "output_type": "stream",
     "text": [
      "F-value: 1.2000, p-value: 0.3294\n"
     ]
    }
   ],
   "source": [
    "import scipy.stats as stats\n",
    "\n",
    "sample_variance = 0.006\n",
    "claimed_variance = 0.005\n",
    "dfn = 24  \n",
    "\n",
    "F_value = sample_variance / claimed_variance\n",
    "p_value = 1 - stats.f.cdf(F_value, dfn, dfn)\n",
    "\n",
    "print(f\"F-value: {F_value:.4f}, p-value: {p_value:.4f}\")\n"
   ]
  },
  {
   "cell_type": "markdown",
   "id": "b089834d-19f9-49a1-aafd-e8ac7b843874",
   "metadata": {},
   "source": [
    "## Q6. Write a Python function that takes in the degrees of freedom for the numerator and denominator of an F-distribution and calculates the mean and variance of the distribution. The function should return the mean and variance as a tuple. "
   ]
  },
  {
   "cell_type": "code",
   "execution_count": 11,
   "id": "73f29a61-2f2f-40a2-91a9-deda728bedb1",
   "metadata": {},
   "outputs": [],
   "source": [
    "def f_distribution_mean_variance(dfn, dfd):\n",
    "    mean = dfd / (dfd - 2) if dfd > 2 else None\n",
    "    variance = (2 * (dfd**2) * (dfn + dfd - 2)) / (dfn * ((dfd - 2)**2) * (dfd - 4)) if dfd > 4 else None\n",
    "    return mean, variance\n"
   ]
  },
  {
   "cell_type": "markdown",
   "id": "d01f3042-9be8-438e-a781-eef629d9f432",
   "metadata": {},
   "source": [
    "## Q7. A random sample of 10 measurements is taken from a normal population with unknown variance. The sample variance is found to be 25. Another random sample of 15 measurements is taken from another normal population with unknown variance, and the sample variance is found to be 20. Conduct an F-test at the 10% significance level to determine if the variances are significantly different."
   ]
  },
  {
   "cell_type": "code",
   "execution_count": 13,
   "id": "16d69829-bdc8-471e-8478-facfedbeef5a",
   "metadata": {},
   "outputs": [
    {
     "name": "stdout",
     "output_type": "stream",
     "text": [
      "F-value: 1.2500, p-value: 0.6832\n"
     ]
    }
   ],
   "source": [
    "import scipy.stats as stats\n",
    "\n",
    "sample_variance1 = 25\n",
    "sample_variance2 = 20\n",
    "F_value = sample_variance1 / sample_variance2\n",
    "dfn, dfd = 9, 14  \n",
    "\n",
    "p_value = 2 * min(stats.f.cdf(F_value, dfn, dfd), 1 - stats.f.cdf(F_value, dfn, dfd))\n",
    "print(f\"F-value: {F_value:.4f}, p-value: {p_value:.4f}\")\n"
   ]
  },
  {
   "cell_type": "markdown",
   "id": "26fa338c-9bed-49a9-be49-694123fe3126",
   "metadata": {},
   "source": [
    "## Q8. The following data represent the waiting times in minutes at two different restaurants on a Saturday night: Restaurant A: 24, 25, 28, 23, 22, 20, 27; Restaurant B: 31, 33, 35, 30, 32, 36. Conduct an F-test at the 5% significance level to determine if the variances are significantly different."
   ]
  },
  {
   "cell_type": "code",
   "execution_count": 15,
   "id": "60f222d3-ac63-4a6e-995b-8711de4f8794",
   "metadata": {},
   "outputs": [
    {
     "name": "stdout",
     "output_type": "stream",
     "text": [
      "F-value: 1.4552, p-value: 0.6975\n"
     ]
    }
   ],
   "source": [
    "import numpy as np\n",
    "import scipy.stats as stats\n",
    "\n",
    "restaurant_a = [24, 25, 28, 23, 22, 20, 27]\n",
    "restaurant_b = [31, 33, 35, 30, 32, 36]\n",
    "\n",
    "F_value = np.var(restaurant_a, ddof=1) / np.var(restaurant_b, ddof=1)\n",
    "dfn, dfd = len(restaurant_a) - 1, len(restaurant_b) - 1\n",
    "p_value = 2 * min(stats.f.cdf(F_value, dfn, dfd), 1 - stats.f.cdf(F_value, dfn, dfd))\n",
    "\n",
    "print(f\"F-value: {F_value:.4f}, p-value: {p_value:.4f}\")\n"
   ]
  },
  {
   "cell_type": "markdown",
   "id": "6c7c4eda-89d9-4371-b4b0-b001d9d7c896",
   "metadata": {},
   "source": [
    "## Q9. The following data represent the test scores of two groups of students: Group A: 80, 85, 90, 92, 87, 83; Group B: 75, 78, 82, 79, 81, 84. Conduct an F-test at the 1% significance level to determine if the variances are significantly different.\n"
   ]
  },
  {
   "cell_type": "code",
   "execution_count": 17,
   "id": "0b7a5610-7a8b-466e-901b-7186a20c1b58",
   "metadata": {},
   "outputs": [
    {
     "name": "stdout",
     "output_type": "stream",
     "text": [
      "F-value: 1.9443, p-value: 0.4831\n"
     ]
    }
   ],
   "source": [
    "import numpy as np\n",
    "import scipy.stats as stats\n",
    "\n",
    "group_a = [80, 85, 90, 92, 87, 83]\n",
    "group_b = [75, 78, 82, 79, 81, 84]\n",
    "\n",
    "F_value = np.var(group_a, ddof=1) / np.var(group_b, ddof=1)\n",
    "dfn, dfd = len(group_a) - 1, len(group_b) - 1\n",
    "p_value = 2 * min(stats.f.cdf(F_value, dfn, dfd), 1 - stats.f.cdf(F_value, dfn, dfd))\n",
    "\n",
    "print(f\"F-value: {F_value:.4f}, p-value: {p_value:.4f}\")\n"
   ]
  }
 ],
 "metadata": {
  "kernelspec": {
   "display_name": "Python 3 (ipykernel)",
   "language": "python",
   "name": "python3"
  },
  "language_info": {
   "codemirror_mode": {
    "name": "ipython",
    "version": 3
   },
   "file_extension": ".py",
   "mimetype": "text/x-python",
   "name": "python",
   "nbconvert_exporter": "python",
   "pygments_lexer": "ipython3",
   "version": "3.12.4"
  }
 },
 "nbformat": 4,
 "nbformat_minor": 5
}
