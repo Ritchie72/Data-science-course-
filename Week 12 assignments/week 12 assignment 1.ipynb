{
 "cells": [
  {
   "cell_type": "markdown",
   "id": "5c246c8a-842d-433e-b011-d11060da252f",
   "metadata": {},
   "source": [
    "## Q1: What is the difference between a t-test and a z-test? Provide an example scenario where you would use each type of test."
   ]
  },
  {
   "cell_type": "markdown",
   "id": "4cd5b948-0288-46e5-af3a-0904eacf52b0",
   "metadata": {},
   "source": [
    "A t-test is used when the sample size is small (typically n < 30) and the population standard deviation is unknown, while a z-test is used for larger samples (n ≥ 30) or when the population standard deviation is known. For example, use a t-test to compare the average test scores of a small group of students, and a z-test to compare the average heights of a large population where the population standard deviation is known."
   ]
  },
  {
   "cell_type": "markdown",
   "id": "2edcb3aa-8ce4-4ef2-8afd-fabad2b0b671",
   "metadata": {},
   "source": [
    "## Q2: Differentiate between one-tailed and two-tailed tests"
   ]
  },
  {
   "cell_type": "markdown",
   "id": "4dace2e9-637c-43c2-8c66-4d6984111c8b",
   "metadata": {},
   "source": [
    "A one-tailed test evaluates whether a sample mean is significantly greater than or less than a population mean, focusing on one direction, while a two-tailed test assesses if the sample mean is significantly different (either greater or less) from the population mean. For example, use a one-tailed test to determine if a new drug improves recovery time, and a two-tailed test to check if it has any effect, positive or negative, on recovery time."
   ]
  },
  {
   "cell_type": "markdown",
   "id": "97b9ec5b-4f4f-4c70-8775-721e0f15a642",
   "metadata": {},
   "source": [
    "## Q3: Explain the concept of Type 1 and Type 2 errors in hypothesis testing. Provide an example scenario for each type of error."
   ]
  },
  {
   "cell_type": "markdown",
   "id": "a71f9682-a90e-44b3-94d9-6e565b2f09f7",
   "metadata": {},
   "source": [
    "Type I error occurs when a true null hypothesis is incorrectly rejected (false positive), such as concluding a new drug is effective when it actually is not. Type II error happens when a false null hypothesis is not rejected (false negative), like failing to detect that a drug is effective when it truly improves patient outcomes."
   ]
  },
  {
   "cell_type": "markdown",
   "id": "7b2a89e0-1148-4ff1-b9a7-82d739e7445d",
   "metadata": {},
   "source": [
    "## Q4:  Explain Bayes's theorem with an example."
   ]
  },
  {
   "cell_type": "markdown",
   "id": "93b8db05-3f2f-4b2d-bb84-b7c256e7fc07",
   "metadata": {},
   "source": [
    "Bayes's theorem describes the probability of an event based on prior knowledge of conditions related to the event, formulated as P(A|B) = P(B|A).P(A)}/{P(B). For example, if a patient tests positive for a disease, Bayes's theorem can help calculate the probability that they actually have the disease by considering the test's accuracy and the prevalence of the disease in the population."
   ]
  },
  {
   "cell_type": "markdown",
   "id": "1edc7af0-fcb9-49bf-93f8-e31af9b0da8f",
   "metadata": {},
   "source": [
    "## Q5: What is a confidence interval? How to calculate the confidence interval, explain with an example."
   ]
  },
  {
   "cell_type": "markdown",
   "id": "fc3b8f60-8a80-4328-8cc6-8cedf9ea5a77",
   "metadata": {},
   "source": [
    "A confidence interval is a range of values that estimates the true population parameter with a specified level of confidence, typically expressed as a percentage (e.g., 95% confidence interval)"
   ]
  },
  {
   "cell_type": "markdown",
   "id": "230ec1d8-d604-434c-bcbb-58f359da773d",
   "metadata": {},
   "source": [
    "To calculate it, use the formula: \n",
    "CI = 𝑥 ± 𝑍 (𝜎/ sqrt(𝑛))\n",
    "where x is the sample mean, Z is the Z-value for the desired confidence level, σ is the population standard deviation, and  n is the sample size"
   ]
  },
  {
   "cell_type": "markdown",
   "id": "3f6de5a1-11c4-45b0-80b0-951892b97de0",
   "metadata": {},
   "source": [
    "## Q6. Use Bayes' Theorem to calculate the probability of an event occurring given prior knowledge of the event's probability and new evidence. Provide a sample problem and solution."
   ]
  },
  {
   "cell_type": "markdown",
   "id": "6d6ef794-6abe-4620-b0ce-78e626a31c80",
   "metadata": {},
   "source": [
    "A disease affects 1% of the population, and a test for the disease is 90% accurate (true positive rate) and has a 5% false positive rate. If a person tests positive, what is the probability they actually have the disease?"
   ]
  },
  {
   "cell_type": "markdown",
   "id": "8b1af9f1-832a-4199-af5c-f74ed1f9bfdf",
   "metadata": {},
   "source": [
    "Let \n",
    "A be the event of having the disease, and \n",
    "B the event of testing positive."
   ]
  },
  {
   "cell_type": "markdown",
   "id": "54edd8d2-ec31-47b5-90e1-f30704b20624",
   "metadata": {},
   "source": [
    "We know \n",
    "P(A)=0.01, \n",
    "P(B∣A)=0.90, and \n",
    "P(B∣¬A)=0.05."
   ]
  },
  {
   "cell_type": "markdown",
   "id": "c61ace5b-18a3-41ca-8021-db2e570c5552",
   "metadata": {},
   "source": [
    "First, calculate \n",
    "\n",
    "P(B):\n",
    "P(B)=P(B∣A)P(A)+P(B∣¬A)P(¬A)=0.90×0.01+0.05×0.99=0.054"
   ]
  },
  {
   "cell_type": "markdown",
   "id": "84b19c95-e17f-4adb-bb03-5c4d2213e540",
   "metadata": {},
   "source": [
    "Then apply Bayes' theorem:\n",
    "P(A∣B)= P(B∣A)P(A)/P(B) = 0.090×0.01/0.054 ≈0.167 or 16.7%"
   ]
  },
  {
   "cell_type": "markdown",
   "id": "50a0221a-1f17-48fb-9687-682a222ac86a",
   "metadata": {},
   "source": [
    "## Q7. Calculate the 95% confidence interval for a sample of data with a mean of 50 and a standard deviation of 5. Interpret the results."
   ]
  },
  {
   "cell_type": "markdown",
   "id": "4314cd70-2dd9-4e05-bb35-3e32925988c5",
   "metadata": {},
   "source": [
    "To calculate the 95% confidence interval for a sample mean of 50 with a standard deviation of 5, use the formula:\n",
    "CI= x ±Z( σ/sqrt(n)). Assuming a sample size of 𝑛 = 30 and using 𝑍 ≈ 1.96\n",
    "CI = 50 ± 1.96(5/30) \n",
    "CI=50±1.96(5/sqrt(30)))≈50±0.36\n",
    "This results in a confidence interval of approximately (49.64, 50.36),"
   ]
  },
  {
   "cell_type": "markdown",
   "id": "1583ba96-ffb4-473c-9d83-4ca4d1686202",
   "metadata": {},
   "source": [
    "## Q8. What is the margin of error in a confidence interval? How does sample size affect the margin of error? Provide an example of a scenario where a larger sample size would result in a smaller margin of error."
   ]
  },
  {
   "cell_type": "markdown",
   "id": "a3df2427-fd50-4b78-b394-3139554d8a0f",
   "metadata": {},
   "source": [
    "The margin of error in a confidence interval is the range within which the true population parameter is expected to lie, calculated as Z( σ/sqrt(n)).. As the sample size increases, the margin of error decreases because the denominator sqrt{n} becomes larger, resulting in more precise estimates; for example, surveying 1,000 voters will yield a smaller margin of error than surveying 100 voters, providing a more accurate estimate of public opinion."
   ]
  },
  {
   "cell_type": "markdown",
   "id": "73e043d9-b989-4e4f-ab8b-f35c6651bdee",
   "metadata": {},
   "source": [
    "## Q9. Calculate the z-score for a data point with a value of 75, a population mean of 70, and a population standard deviation of 5. Interpret the results."
   ]
  },
  {
   "cell_type": "markdown",
   "id": "5e72de82-8b1e-404c-b3ff-c197c3d29763",
   "metadata": {},
   "source": [
    "To calculate the z-score, use the formula:  \n",
    "z = {(75 - 70)}/{5} = 1.0 \n",
    "This means the data point of 75 is 1 standard deviation above the population mean of 70, indicating that it is relatively higher than average."
   ]
  },
  {
   "cell_type": "markdown",
   "id": "04eb3c95-23eb-471b-b4e3-fe4b942121e4",
   "metadata": {},
   "source": [
    "## Q10. In a study of the effectiveness of a new weight loss drug, a sample of 50 participants lost an average of 6 pounds with a standard deviation of 2.5 pounds. Conduct a hypothesis test to determine if the drug is significantly effective at a 95% confidence level using a t-test."
   ]
  },
  {
   "cell_type": "markdown",
   "id": "73beb7c2-7aa4-42e8-956d-0826a7206faf",
   "metadata": {},
   "source": [
    "To conduct the t-test, set up the null hypothesis H_0: mu = 0 (the drug has no effect) and the alternative hypothesis H_1: \\mu != 0 (the drug is effective). Using a sample mean of 6 pounds, standard deviation of 2.5 pounds, and n = 50 , calculate the t-statistic as:  \n",
    "t = (x - u)/(s/sqrt(n)) With df = 49, compare the calculated t-value with the critical t-value (approximately ±2.009 for a two-tailed test at 95% confidence) to conclude that the drug is significantly effective since  6.0 > 2.009 ."
   ]
  },
  {
   "cell_type": "markdown",
   "id": "07b84608-3646-41f3-9be6-d98c62b14eb9",
   "metadata": {},
   "source": [
    "## Q11. In a survey of 500 people, 65% reported being satisfied with their current job. Calculate the 95% confidence interval for the true proportion of people who are satisfied with their job."
   ]
  },
  {
   "cell_type": "markdown",
   "id": "18716ff2-9095-42b2-8711-d09bb2881051",
   "metadata": {},
   "source": [
    "To calculate the 95% confidence interval for the proportion of satisfied people, use the formula:  \n",
    "CI = P +- Z*sqrt(p(1-p)/n)\n",
    "This results in a confidence interval of approximately (0.605, 0.695), indicating we can be 95% confident that the true proportion of satisfied people lies within this range."
   ]
  },
  {
   "cell_type": "markdown",
   "id": "ae5f442e-4cfd-4c15-bcc1-7d4edb9a2116",
   "metadata": {},
   "source": [
    "## Q12. A researcher is testing the effectiveness of two different teaching methods on student performance. Sample A has a mean score of 85 with a standard deviation of 6, while sample B has a mean score of 82 with a standard deviation of 5. Conduct a hypothesis test to determine if the two teaching methods have a significant difference in student performance using a t-test with a significance level of 0.01."
   ]
  },
  {
   "cell_type": "markdown",
   "id": "a0575a93-808f-4ac1-8a19-c5227482d346",
   "metadata": {},
   "source": [
    "To conduct the t-test, set up the null hypothesis  H_0: \\mu_A = \\mu_B  (no difference in performance) and the alternative hypothesis H_1: \\mu_A != \\mu_B (a difference exists). Calculate the t-statistic using the formula:  \n",
    "With degrees of freedom  df = n_A + n_B - 2 = 58 , compare the calculated t-value (approximately 2.09) to the critical t-value at df = 58  for a two-tailed test at a significance level of 0.01 (approximately ±2.660), concluding that there is no significant difference between the two teaching methods since 2.09 < 2.660."
   ]
  },
  {
   "cell_type": "markdown",
   "id": "cd2261d1-f62a-4e8d-a522-21ffa6d70490",
   "metadata": {},
   "source": [
    "## Q13. A population has a mean of 60 and a standard deviation of 8. A sample of 50 observations has a mean of 65. Calculate the 90% confidence interval for the true population mean."
   ]
  },
  {
   "cell_type": "markdown",
   "id": "ef325a1c-38a0-4c05-a99b-be94dfb5c8d2",
   "metadata": {},
   "source": [
    "To calculate the 90% confidence interval for the population mean, use the formula:\n",
    "CI = 𝑥 ± 𝑍 ( 𝜎/sqrt(n))"
   ]
  },
  {
   "cell_type": "markdown",
   "id": "e541ab91-1c6c-4863-a39f-acd397e0bfc2",
   "metadata": {},
   "source": [
    "where 𝑥 = 65, 𝜎 =8, n=50, and 𝑍\n",
    "Z≈1.645 for 90% confidence"
   ]
  },
  {
   "cell_type": "markdown",
   "id": "95d4728b-357a-4c24-a55b-ae441c1a7b74",
   "metadata": {},
   "source": [
    "CI=65±1.645(8/sqrt(50))≈65±1.85"
   ]
  },
  {
   "cell_type": "markdown",
   "id": "2f413a03-bea1-4084-884d-866cb3180e71",
   "metadata": {},
   "source": [
    "## Q14. In a study of the effects of caffeine on reaction time, a sample of 30 participants had an average reaction time of 0.25 seconds with a standard deviation of 0.05 seconds. Conduct a hypothesis test to determine if the caffeine has a significant effect on reaction time at a 90% confidence level using a t-test."
   ]
  },
  {
   "cell_type": "markdown",
   "id": "3806638e-2afb-42d2-be6d-a05bffa8844c",
   "metadata": {},
   "source": [
    "To conduct the t-test, set up the null hypothesis 𝐻0 :μ=0.3 (caffeine has no effect on reaction time) and the alternative hypothesis \n",
    "H 1 :μ<0.3 (caffeine reduces reaction time). Calculate the t-statistic using the formula:"
   ]
  },
  {
   "cell_type": "markdown",
   "id": "6c1c721f-cfce-4101-8ad7-8f0b7accf762",
   "metadata": {},
   "source": [
    "t= x−μ/(s/sqrt(n)) = ≈−5.49"
   ]
  },
  {
   "cell_type": "markdown",
   "id": "20be4b73-3250-4417-a2b8-aef82b23b82b",
   "metadata": {},
   "source": [
    "With df=29, the critical t-value for a one-tailed test at 90% confidence is approximately -1.699; since \n",
    "−5.49<−1.699, we reject the null hypothesis, indicating that caffeine significantly reduces reaction time."
   ]
  }
 ],
 "metadata": {
  "kernelspec": {
   "display_name": "Python 3 (ipykernel)",
   "language": "python",
   "name": "python3"
  },
  "language_info": {
   "codemirror_mode": {
    "name": "ipython",
    "version": 3
   },
   "file_extension": ".py",
   "mimetype": "text/x-python",
   "name": "python",
   "nbconvert_exporter": "python",
   "pygments_lexer": "ipython3",
   "version": "3.12.4"
  }
 },
 "nbformat": 4,
 "nbformat_minor": 5
}
