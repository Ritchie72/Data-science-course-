{
 "cells": [
  {
   "cell_type": "markdown",
   "id": "d6493fba-eb5c-4f4c-821c-2a8233545184",
   "metadata": {},
   "source": [
    "## Q1: What are the Probability Mass Function (PMF) and Probability Density Function (PDF)? Explain with an example."
   ]
  },
  {
   "cell_type": "markdown",
   "id": "41a0b049-0ab8-4bd8-abe9-28df14b3db4c",
   "metadata": {},
   "source": [
    "The Probability Mass Function (PMF) gives the probability of discrete outcomes, such as rolling a die, where each specific outcome (1, 2, ..., 6) has a probability. The Probability Density Function (PDF) describes the likelihood of continuous outcomes within a range, like the height of people, where probabilities are found over intervals since exact points have zero probability."
   ]
  },
  {
   "cell_type": "markdown",
   "id": "d71d7cc6-4a32-438c-87b8-ada5d1eee456",
   "metadata": {},
   "source": [
    "## Q2: What is Cumulative Density Function (CDF)? Explain with an example. Why CDF is used?"
   ]
  },
  {
   "cell_type": "markdown",
   "id": "41d97c3b-71ff-49bb-9a82-f19f84d00b68",
   "metadata": {},
   "source": [
    "The Cumulative Density Function (CDF) gives the probability that a random variable is less than or equal to a certain value, such as finding the probability of rolling a number less than or equal to 3 on a die. CDFs are used to understand the cumulative probability and to analyze the distribution of probabilities over a range."
   ]
  },
  {
   "cell_type": "markdown",
   "id": "020cf040-3e12-4175-ab9d-eeae8218577f",
   "metadata": {},
   "source": [
    "## Q3: What are some examples of situations where the normal distribution might be used as a model? Explain how the parameters of the normal distribution relate to the shape of the distribution."
   ]
  },
  {
   "cell_type": "markdown",
   "id": "26b37d93-69d5-41d1-ab5f-a172d62f3ba7",
   "metadata": {},
   "source": [
    "Examples of normal distribution models include heights of people, exam scores, and measurement errors. The mean determines the center, while the standard deviation controls the spread; a larger standard deviation results in a wider, flatter curve."
   ]
  },
  {
   "cell_type": "markdown",
   "id": "338abb4b-d58b-4b56-9357-f4cab03f17a3",
   "metadata": {},
   "source": [
    "## Q4: Explain the importance of Normal Distribution. Give a few real-life examples of Normal Distribution."
   ]
  },
  {
   "cell_type": "markdown",
   "id": "2f441177-dbbe-4c2e-851a-19b29d6a9968",
   "metadata": {},
   "source": [
    "Normal distribution is crucial in statistics as it underpins many statistical methods, allowing for easier analysis and inference due to its properties, such as the central limit theorem. Real-life examples include test scores, human heights, and errors in measurements, where values cluster around a mean with symmetric tails."
   ]
  },
  {
   "cell_type": "markdown",
   "id": "77a85b35-c9aa-402b-b14a-e4cf4bbde258",
   "metadata": {},
   "source": [
    "## Q5: What is Bernaulli Distribution? Give an Example. What is the difference between Bernoulli Distribution and Binomial Distribution?\n",
    "\n"
   ]
  },
  {
   "cell_type": "markdown",
   "id": "f0972328-e5c3-483f-a82f-5678248d9a17",
   "metadata": {},
   "source": [
    "Bernoulli Distribution represents a random experiment with two outcomes (success or failure), such as flipping a coin where heads is a success and tails is a failure. The key difference is that Bernoulli Distribution describes a single trial, while Binomial Distribution models multiple independent Bernoulli trials, calculating the number of successes in those trials."
   ]
  },
  {
   "cell_type": "markdown",
   "id": "213e55c8-31ff-4567-9697-9a97635eee2c",
   "metadata": {},
   "source": [
    "## Q6. Consider a dataset with a mean of 50 and a standard deviation of 10. If we assume that the dataset is normally distributed, what is the probability that a randomly selected observation will be greater than 60? Use the appropriate formula and show your calculations."
   ]
  },
  {
   "cell_type": "markdown",
   "id": "45587829-25ab-43b9-a5dc-83bed9a83b0f",
   "metadata": {},
   "source": [
    "To find the probability that a randomly selected observation is greater than 60, we first calculate the z-score:\n",
    "𝑧 = 𝑋−𝜇 /𝜎 = 60 − 50/ 10 = 1\n",
    "Using the standard normal distribution table, the probability \n",
    "P(Z>1) is approximately 0.1587. Therefore, the probability that an observation is greater than 60 is about 15.87%."
   ]
  },
  {
   "cell_type": "markdown",
   "id": "ab6956df-86cd-46a9-80f8-ad66f2df8e47",
   "metadata": {},
   "source": [
    "## Q7: Explain uniform Distribution with an example."
   ]
  },
  {
   "cell_type": "markdown",
   "id": "0f7b9aad-47d8-4269-baca-1e90449f2dc2",
   "metadata": {},
   "source": [
    "Uniform Distribution describes a situation where all outcomes are equally likely within a specific range, such as rolling a fair die, where each side (1 through 6) has an equal probability of 1/6. An example in continuous uniform distribution is selecting a random number between 0 and 1, where any number within that range has the same likelihood of being chosen."
   ]
  },
  {
   "cell_type": "markdown",
   "id": "14f64951-6f7f-4f6f-9ff5-1b79b524d997",
   "metadata": {},
   "source": [
    "## Q8: What is the z score? State the importance of the z score."
   ]
  },
  {
   "cell_type": "markdown",
   "id": "9ca74e3d-9a76-4cdd-be8c-9c9b7aca44e0",
   "metadata": {},
   "source": [
    "The z-score measures how many standard deviations an observation is from the mean of a dataset, calculated as z = (x-U)/rho. It is important for standardizing scores across different distributions, enabling comparison and determining probabilities using the standard normal distribution."
   ]
  },
  {
   "cell_type": "markdown",
   "id": "07bbf310-288f-4631-a306-ba08ed4d84f2",
   "metadata": {},
   "source": [
    "## Q9: What is Central Limit Theorem? State the significance of the Central Limit Theorem."
   ]
  },
  {
   "cell_type": "markdown",
   "id": "d97c36fb-e23c-413b-9fd7-54e99a7f47a3",
   "metadata": {},
   "source": [
    "The Central Limit Theorem states that the distribution of the sample means approaches a normal distribution as the sample size increases, regardless of the original population's distribution. Its significance lies in its ability to justify the use of normal probability methods in inferential statistics, allowing for hypothesis testing and confidence interval estimation even with non-normally distributed populations.\n"
   ]
  },
  {
   "cell_type": "markdown",
   "id": "c391a2eb-d6d3-4d4f-bc82-917c40b8a89a",
   "metadata": {},
   "source": [
    "## Q10: State the assumptions of the Central Limit Theorem."
   ]
  },
  {
   "cell_type": "markdown",
   "id": "d5e3f466-3e09-4d6b-8501-3ea7329418d7",
   "metadata": {},
   "source": [
    "The assumptions of the Central Limit Theorem include that the samples are independent, drawn from the same population, and that the sample size is sufficiently large (usually n ≥ 30) for the mean distribution to approximate normality. Additionally, if the population distribution is significantly skewed or has outliers, a larger sample size may be required for the theorem to hold effectively."
   ]
  }
 ],
 "metadata": {
  "kernelspec": {
   "display_name": "Python 3 (ipykernel)",
   "language": "python",
   "name": "python3"
  },
  "language_info": {
   "codemirror_mode": {
    "name": "ipython",
    "version": 3
   },
   "file_extension": ".py",
   "mimetype": "text/x-python",
   "name": "python",
   "nbconvert_exporter": "python",
   "pygments_lexer": "ipython3",
   "version": "3.12.4"
  }
 },
 "nbformat": 4,
 "nbformat_minor": 5
}
