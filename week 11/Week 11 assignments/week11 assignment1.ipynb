{
 "cells": [
  {
   "cell_type": "markdown",
   "id": "f230eeb1-1dee-4b09-95e9-4736c02604d7",
   "metadata": {},
   "source": [
    "## Q1. What is the Probability density function?"
   ]
  },
  {
   "cell_type": "markdown",
   "id": "0def6dfe-ea4d-46ad-b316-357a4aa87384",
   "metadata": {},
   "source": [
    "The probability density function (PDF) of a continuous random variable describes the likelihood of the variable taking on a specific value. It is a function 𝑓(𝑥)\n",
    "f(x) such that the probability of the variable falling within a particular range is given by the integral of 𝑓(𝑥), f(x) over that range."
   ]
  },
  {
   "cell_type": "markdown",
   "id": "896f6fb7-b706-4420-9c46-0ee0239bfcbb",
   "metadata": {},
   "source": [
    "## Q2. What are the types of Probability distribution?"
   ]
  },
  {
   "cell_type": "markdown",
   "id": "8f5b8144-616b-4c84-a7c3-80c2058fbae5",
   "metadata": {},
   "source": [
    "1] Probability density function(PDF).\n",
    "2] Probability mass function(PMF).\n",
    "3] Cummulative distribution function(CDF)."
   ]
  },
  {
   "cell_type": "markdown",
   "id": "8c3d8840-ce24-4dec-a7d9-0e7b97fb5eda",
   "metadata": {},
   "source": [
    "## Q3. Write a Python function to calculate the probability density function of a normal distribution with given mean and standard deviation at a given point."
   ]
  },
  {
   "cell_type": "code",
   "execution_count": 22,
   "id": "b2e50a57-4472-4734-b874-da5d86b09730",
   "metadata": {},
   "outputs": [],
   "source": [
    "from scipy.stats import norm\n",
    "\n",
    "def normal_pdf(mean, std_dev, x):\n",
    "    return norm.pdf(x, mean, std_dev)\n"
   ]
  },
  {
   "cell_type": "markdown",
   "id": "234e35ef-c052-4db3-92c7-8c17b284d61a",
   "metadata": {},
   "source": [
    "## Q4. What are the properties of Binomial distribution? Give two examples of events where binomial distribution can be applied."
   ]
  },
  {
   "cell_type": "markdown",
   "id": "5a43660b-dc63-4795-866a-cf9a675444aa",
   "metadata": {},
   "source": [
    "The binomial distribution describes the probability of having a fixed number of successes in a set number of independent trials, where each trial has two possible outcomes (success or failure) and a constant probability of success. Examples include flipping a coin a specific number of times and counting the number of heads, or counting the number of defective items in a batch.\n"
   ]
  },
  {
   "cell_type": "markdown",
   "id": "d754bb24-afd7-4c43-98ab-dc0bd4cdc36a",
   "metadata": {},
   "source": [
    "## Q5. Generate a random sample of size 1000 from a binomial distribution with probability of success 0.4 and plot a histogram of the results using matplotlib."
   ]
  },
  {
   "cell_type": "code",
   "execution_count": 4,
   "id": "32115110-6475-454e-a950-90c69ea08c5c",
   "metadata": {},
   "outputs": [
    {
     "data": {
      "image/png": "[encoded data removed]",
      "text/plain": [
       "<Figure size 640x480 with 1 Axes>"
      ]
     },
     "metadata": {},
     "output_type": "display_data"
    }
   ],
   "source": [
    "import numpy as np\n",
    "import matplotlib.pyplot as plt\n",
    "sample = np.random.binomial(n=10, p=0.4, size=1000)\n",
    "plt.hist(sample, bins=range(12), edgecolor='black')\n",
    "plt.xlabel('Number of Successes')\n",
    "plt.ylabel('Frequency')\n",
    "plt.title('Histogram of Binomial Distribution Sample (n=10, p=0.4)')\n",
    "plt.show()\n"
   ]
  },
  {
   "cell_type": "markdown",
   "id": "18a57962-773b-4559-9a2a-ed0abc2d6646",
   "metadata": {},
   "source": [
    "## Q6. Write a Python function to calculate the cumulative distribution function of a Poisson distribution with given mean at a given point.\n",
    "\n"
   ]
  },
  {
   "cell_type": "code",
   "execution_count": 9,
   "id": "6a27726c-01f1-4f79-9fac-0a6954818ce1",
   "metadata": {},
   "outputs": [],
   "source": [
    "from scipy.stats import poisson\n",
    "\n",
    "def poisson_cdf(mean, k):\n",
    "    return poisson.cdf(k, mean)\n"
   ]
  },
  {
   "cell_type": "markdown",
   "id": "0c4a3d88-d0cf-4fa2-836e-407dcb295a4c",
   "metadata": {},
   "source": [
    "## Q7. How Binomial distribution different from Poisson distribution?"
   ]
  },
  {
   "cell_type": "markdown",
   "id": "e947140b-b712-4d04-a921-6dcaf1c0afa3",
   "metadata": {},
   "source": [
    "The Binomial distribution models the number of successes in a fixed number of independent Bernoulli trials, each with the same probability of success. In contrast, the Poisson distribution models the number of events occurring in a fixed interval of time or space when these events happen with a known average rate and are independent of the time since the last event."
   ]
  },
  {
   "cell_type": "markdown",
   "id": "298b438e-1a7c-4da8-bbe6-845eb9b417f2",
   "metadata": {},
   "source": [
    "## Q8. Generate a random sample of size 1000 from a Poisson distribution with mean 5 and calculate the sample mean and variance."
   ]
  },
  {
   "cell_type": "code",
   "execution_count": 12,
   "id": "305d5bd5-665c-4919-a4f9-2d9a5e88829c",
   "metadata": {},
   "outputs": [],
   "source": [
    "sample_poisson = np.random.poisson(lam=5, size=1000)"
   ]
  },
  {
   "cell_type": "code",
   "execution_count": 14,
   "id": "6f0785cf-ba3c-4fdd-ab98-1dab79ac571f",
   "metadata": {},
   "outputs": [
    {
     "data": {
      "text/plain": [
       "(5.032, 5.040976000000001)"
      ]
     },
     "execution_count": 14,
     "metadata": {},
     "output_type": "execute_result"
    }
   ],
   "source": [
    "sample_mean = np.mean(sample_poisson)\n",
    "sample_variance = np.var(sample_poisson)\n",
    "\n",
    "sample_mean, sample_variance"
   ]
  },
  {
   "cell_type": "markdown",
   "id": "729bc33e-07a0-4148-8238-7400568d538e",
   "metadata": {},
   "source": [
    "## Q9. How mean and variance are related in Binomial distribution and Poisson distribution?"
   ]
  },
  {
   "cell_type": "markdown",
   "id": "cdb74ba4-f501-412d-b649-8d408ec7ff17",
   "metadata": {},
   "source": [
    "In a binomial distribution, the mean is 𝑛𝑝 and the variance is 𝑛𝑝(1−𝑝). In a Poisson distribution, the mean is λ and the variance is also λ."
   ]
  },
  {
   "cell_type": "markdown",
   "id": "9fa4d4bd-f812-4db3-abd5-c973a6be58a5",
   "metadata": {},
   "source": [
    "## Q10. In normal distribution with respect to mean position, where does the least frequent data appear?\n"
   ]
  },
  {
   "cell_type": "markdown",
   "id": "fd1fedfc-9e03-4d82-9fe2-bdd72632ff78",
   "metadata": {},
   "source": [
    "In a normal distribution, the least frequent data appears in the tails, farthest from the mean. These areas correspond to values more than three standard deviations away from the mean."
   ]
  }
 ],
 "metadata": {
  "kernelspec": {
   "display_name": "Python 3 (ipykernel)",
   "language": "python",
   "name": "python3"
  },
  "language_info": {
   "codemirror_mode": {
    "name": "ipython",
    "version": 3
   },
   "file_extension": ".py",
   "mimetype": "text/x-python",
   "name": "python",
   "nbconvert_exporter": "python",
   "pygments_lexer": "ipython3",
   "version": "3.12.4"
  }
 },
 "nbformat": 4,
 "nbformat_minor": 5
}
