{
 "cells": [
  {
   "cell_type": "markdown",
   "id": "f38e17fd-b87f-42f3-9079-2ae1beb57150",
   "metadata": {},
   "source": [
    "## Q1. What is multiprocessing in python? Why is it useful? "
   ]
  },
  {
   "cell_type": "markdown",
   "id": "80fc6442-8069-469f-8af3-7c6e6d390993",
   "metadata": {},
   "source": [
    "Multiprocessing in Python involves using multiple processes to execute tasks concurrently, allowing for parallel execution on multiple CPU cores. It is useful for CPU-bound tasks as it bypasses Python's Global Interpreter Lock (GIL), enabling better utilization of system resources and improved performance."
   ]
  },
  {
   "cell_type": "markdown",
   "id": "209b5673-89f1-4eac-bb7c-59f454cb4c5a",
   "metadata": {},
   "source": [
    "## Q2. What are the differences between multiprocessing and multithreading?"
   ]
  },
  {
   "cell_type": "markdown",
   "id": "a077311b-3c41-463a-9482-92f6bb579b1b",
   "metadata": {},
   "source": [
    "Multiprocessing involves using multiple processes, each with its own memory space, making it suitable for CPU-bound tasks and allowing parallel execution across multiple cores. In contrast, multithreading uses multiple threads within a single process that share the same memory space, making it more efficient for I/O-bound tasks but limited by Python's Global Interpreter Lock (GIL)."
   ]
  },
  {
   "cell_type": "markdown",
   "id": "75f2f365-91d0-40c8-ba9b-29fb5761b773",
   "metadata": {},
   "source": [
    "## Q3. Write a python code to create a process using the multiprocessing module."
   ]
  },
  {
   "cell_type": "code",
   "execution_count": 3,
   "id": "b69ef597-5e69-4d58-869d-fd8cde97044c",
   "metadata": {},
   "outputs": [],
   "source": [
    "import multiprocessing\n",
    "\n",
    "def print_message():\n",
    "    print(\"Hello from the child process!\")\n",
    "\n",
    "if __name__ == \"__main__\":\n",
    "    process = multiprocessing.Process(target=print_message)\n",
    "    process.start()\n",
    "    process.join()\n"
   ]
  },
  {
   "cell_type": "markdown",
   "id": "ff2828a3-5cbe-4db6-b25a-6381522c3d11",
   "metadata": {},
   "source": [
    "## Q4. What is a multiprocessing pool in python? Why is it used?"
   ]
  },
  {
   "cell_type": "markdown",
   "id": "7df92a4f-41df-4efa-896a-ccf61055ac18",
   "metadata": {},
   "source": [
    "A multiprocessing pool in Python is a class that allows you to manage multiple processes conveniently by creating a fixed number of worker processes for executing tasks in parallel. It is used to simplify parallel processing and improve performance, especially for tasks that can be easily divided into smaller, independent subtasks."
   ]
  },
  {
   "cell_type": "markdown",
   "id": "5302820f-deaa-4104-913f-cbe4d3c487e6",
   "metadata": {},
   "source": [
    "## Q5. How can we create a pool of worker processes in python using the multiprocessing module?"
   ]
  },
  {
   "cell_type": "code",
   "execution_count": null,
   "id": "c2449a43-f45f-471e-a179-c3a58ffae703",
   "metadata": {},
   "outputs": [],
   "source": [
    "from multiprocessing import Pool\n",
    "\n",
    "def square(x):\n",
    "    return x ** 2\n",
    "\n",
    "if __name__ == \"__main__\":\n",
    "    with Pool(processes=4) as pool: \n",
    "        results = pool.map(square, [1, 2, 3, 4, 5]) \n",
    "    print(results)\n"
   ]
  },
  {
   "cell_type": "markdown",
   "id": "54237aee-d9c7-4358-88c5-96298489917f",
   "metadata": {},
   "source": [
    "## Q6. Write a python program to create 4 processes, each process should print a different number using the multiprocessing module in python."
   ]
  },
  {
   "cell_type": "code",
   "execution_count": null,
   "id": "7715d67e-f16d-4e71-a1c4-4df0d9076bf9",
   "metadata": {},
   "outputs": [],
   "source": [
    "import multiprocessing\n",
    "\n",
    "def print_number(num):\n",
    "    print(f\"Number: {num}\")\n",
    "\n",
    "if __name__ == \"__main__\":\n",
    "    processes = [multiprocessing.Process(target=print_number, args=(i,)) for i in range(1, 5)]\n",
    "    for process in processes:\n",
    "        process.start()\n",
    "    for process in processes:\n",
    "        process.join()\n"
   ]
  }
 ],
 "metadata": {
  "kernelspec": {
   "display_name": "Python 3 (ipykernel)",
   "language": "python",
   "name": "python3"
  },
  "language_info": {
   "codemirror_mode": {
    "name": "ipython",
    "version": 3
   },
   "file_extension": ".py",
   "mimetype": "text/x-python",
   "name": "python",
   "nbconvert_exporter": "python",
   "pygments_lexer": "ipython3",
   "version": "3.12.4"
  }
 },
 "nbformat": 4,
 "nbformat_minor": 5
}
