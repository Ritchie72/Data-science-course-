{
 "cells": [
  {
   "cell_type": "markdown",
   "id": "5fc2c677-99c8-4b45-952c-e5986ec9f371",
   "metadata": {},
   "source": [
    "## Q1. What is multithreading in python? Why is it used? Name the module used to handle threads in python."
   ]
  },
  {
   "cell_type": "markdown",
   "id": "65c2c35d-f523-4aa7-a982-1b86076660e8",
   "metadata": {},
   "source": [
    "Multithreading in Python allows multiple threads to run concurrently, improving performance in I/O-bound tasks. It is used to perform multiple operations simultaneously, and the `threading` module is used to handle threads in Python."
   ]
  },
  {
   "cell_type": "markdown",
   "id": "e407474d-8bc5-452c-be0a-620e3e0f0c8a",
   "metadata": {},
   "source": [
    "## Q2. Why threading module used? Write the use of the following functions. 1. activeCount() 2. currentThread() 3. enumerate()"
   ]
  },
  {
   "cell_type": "markdown",
   "id": "f16092ca-eb71-4cc7-90d8-1fd8253be9f6",
   "metadata": {},
   "source": [
    "The `threading` module is used for creating and managing multiple threads in Python, allowing for concurrent execution. \n",
    "\n",
    "- `activeCount()` returns the number of currently active threads.\n",
    "- `currentThread()` returns the current Thread object.\n",
    "- `enumerate()` returns a list of all active Thread objects."
   ]
  },
  {
   "cell_type": "markdown",
   "id": "8271c0d0-48a4-458a-9a75-318bf6db0c5d",
   "metadata": {},
   "source": [
    "## Q3. Explain the following functions. 1. run() 2. start() 3. join() 4. isAlive()"
   ]
  },
  {
   "cell_type": "markdown",
   "id": "ef75955e-c6d7-4d8a-a34c-0b1b2ad2f111",
   "metadata": {},
   "source": [
    "- `run()` defines the thread's activity and is called when the thread starts.\n",
    "- `start()` begins the execution of the thread, invoking the `run()` method.\n",
    "- `join()` makes the main program wait for the thread to finish.\n",
    "- `isAlive()` checks if the thread is still running or has completed execution."
   ]
  },
  {
   "cell_type": "markdown",
   "id": "9577896f-3d8a-4224-a0e4-004eedcbd013",
   "metadata": {},
   "source": [
    "## Q4.  Write a python program to create two threads. Thread one must print the list of squares and thread two must print the list of cubes."
   ]
  },
  {
   "cell_type": "code",
   "execution_count": 4,
   "id": "11c53545-de9c-4bd6-a5a6-c5720b15a7da",
   "metadata": {},
   "outputs": [
    {
     "name": "stdout",
     "output_type": "stream",
     "text": [
      "[1, 4, 9, 16, 25]\n",
      "[1, 8, 27, 64, 125]\n"
     ]
    }
   ],
   "source": [
    "import threading\n",
    "\n",
    "def print_squares(nums):\n",
    "    print([x**2 for x in nums])\n",
    "\n",
    "def print_cubes(nums):\n",
    "    print([x**3 for x in nums])\n",
    "\n",
    "nums = [1, 2, 3, 4, 5]\n",
    "t1 = threading.Thread(target=print_squares, args=(nums,))\n",
    "t2 = threading.Thread(target=print_cubes, args=(nums,))\n",
    "t1.start()\n",
    "t2.start()"
   ]
  },
  {
   "cell_type": "markdown",
   "id": "cee3b851-3337-4513-8dc1-d0e09791a392",
   "metadata": {},
   "source": [
    "## Q5.  State advantages and disadvantages of multithreading."
   ]
  },
  {
   "cell_type": "markdown",
   "id": "a2dc130a-3424-4e83-b92b-8fe5a7a42cf7",
   "metadata": {},
   "source": [
    "Advantages of multithreading include improved application performance by allowing concurrent execution and better resource utilization, especially in I/O-bound tasks. Disadvantages include increased complexity in program design, potential for race conditions, and challenges in debugging and maintaining thread safety."
   ]
  },
  {
   "cell_type": "markdown",
   "id": "f603e9af-dba3-4d4c-a52d-52452ce37aa6",
   "metadata": {},
   "source": [
    "## Q6. Explain deadlocks and race conditions."
   ]
  },
  {
   "cell_type": "markdown",
   "id": "97d8ff35-3e20-498f-b682-81e9a54fda6f",
   "metadata": {},
   "source": [
    "Deadlocks occur when two or more threads are blocked forever, each waiting for the other to release resources they need, preventing any of them from proceeding. Race conditions happen when multiple threads access shared resources simultaneously, leading to inconsistent or incorrect results due to the unpredictable timing of their execution."
   ]
  }
 ],
 "metadata": {
  "kernelspec": {
   "display_name": "Python 3 (ipykernel)",
   "language": "python",
   "name": "python3"
  },
  "language_info": {
   "codemirror_mode": {
    "name": "ipython",
    "version": 3
   },
   "file_extension": ".py",
   "mimetype": "text/x-python",
   "name": "python",
   "nbconvert_exporter": "python",
   "pygments_lexer": "ipython3",
   "version": "3.12.4"
  }
 },
 "nbformat": 4,
 "nbformat_minor": 5
}
