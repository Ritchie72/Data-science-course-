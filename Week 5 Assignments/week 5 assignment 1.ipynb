{
 "cells": [
  {
   "cell_type": "markdown",
   "id": "202df770-8b18-4270-ab17-458b12b44a66",
   "metadata": {},
   "source": [
    "## Q1. What is an Exception in python? Write the difference betweeen Exceptions and Syntax errors."
   ]
  },
  {
   "cell_type": "markdown",
   "id": "1a9d6b05-5d1b-4643-b38c-48cda8bac20b",
   "metadata": {},
   "source": [
    "An Exception in Python is an error that occurs during the execution of a program, disrupting its normal flow. The difference between exceptions and syntax errors is that exceptions occur at runtime, while syntax errors are detected during code compilation due to improper syntax."
   ]
  },
  {
   "cell_type": "markdown",
   "id": "3d893c0a-c487-4396-b1db-807eb0a6604d",
   "metadata": {},
   "source": [
    "## Q2. What happens when an exception is not handled? Explain with an example\u001e",
    "\n"
   ]
  },
  {
   "cell_type": "markdown",
   "id": "7ad85a2f-90c7-4d52-b200-e6174a89fef0",
   "metadata": {},
   "source": [
    "When an exception is not handled, the program terminates abruptly and displays a traceback error message."
   ]
  },
  {
   "cell_type": "code",
   "execution_count": 3,
   "id": "7c1c1060-a048-4567-8803-39549caed7fc",
   "metadata": {},
   "outputs": [
    {
     "ename": "ZeroDivisionError",
     "evalue": "division by zero",
     "output_type": "error",
     "traceback": [
      "\u001b[1;31m---------------------------------------------------------------------------\u001b[0m",
      "\u001b[1;31mZeroDivisionError\u001b[0m                         Traceback (most recent call last)",
      "Cell \u001b[1;32mIn[3], line 1\u001b[0m\n\u001b[1;32m----> 1\u001b[0m a \u001b[38;5;241m=\u001b[39m \u001b[38;5;241m10\u001b[39m\u001b[38;5;241m/\u001b[39m\u001b[38;5;241m0\u001b[39m\n",
      "\u001b[1;31mZeroDivisionError\u001b[0m: division by zero"
     ]
    }
   ],
   "source": [
    "a = 10/0 ####  ZeroDivisionError"
   ]
  },
  {
   "cell_type": "markdown",
   "id": "17a55c2f-c206-49ee-a002-5dd8e3c650ca",
   "metadata": {},
   "source": [
    "## Q3. Which Python statements are used to catch and handle exceptions? Explain with an examples."
   ]
  },
  {
   "cell_type": "markdown",
   "id": "18a319ad-e8f6-4582-a38e-bde8f29c461f",
   "metadata": {},
   "source": [
    "Python uses try, except, and optionally finally statements to catch and handle exceptions."
   ]
  },
  {
   "cell_type": "code",
   "execution_count": 6,
   "id": "9a439aa6-264b-451a-9dcf-787d744025be",
   "metadata": {},
   "outputs": [
    {
     "name": "stdout",
     "output_type": "stream",
     "text": [
      "division by zero\n"
     ]
    }
   ],
   "source": [
    "try:\n",
    "    a = 10/0\n",
    "    print(a)\n",
    "except Exception as e:\n",
    "    print(e)"
   ]
  },
  {
   "cell_type": "markdown",
   "id": "92b9aaf8-7408-4661-b0ee-dc33f6934e43",
   "metadata": {},
   "source": [
    "## Q4. Explain with an example: a. try and else b. finally c. raise"
   ]
  },
  {
   "cell_type": "markdown",
   "id": "73b549de-eb6b-49e0-a7df-87eda4e7820a",
   "metadata": {},
   "source": [
    "In Python, try is used to execute code that might raise an exception, else runs if no exception occurs, finally runs regardless of whether an exception occurs or not, and raise is used to manually raise an exception."
   ]
  },
  {
   "cell_type": "code",
   "execution_count": 9,
   "id": "9697ca78-a8e2-4e74-8a50-5984af7b93df",
   "metadata": {},
   "outputs": [
    {
     "name": "stdout",
     "output_type": "stream",
     "text": [
      "No error, result is: 5.0\n",
      "This will always execute\n"
     ]
    },
    {
     "ename": "ValueError",
     "evalue": "Manually raised error",
     "output_type": "error",
     "traceback": [
      "\u001b[1;31m---------------------------------------------------------------------------\u001b[0m",
      "\u001b[1;31mValueError\u001b[0m                                Traceback (most recent call last)",
      "Cell \u001b[1;32mIn[9], line 10\u001b[0m\n\u001b[0;32m      7\u001b[0m \u001b[38;5;28;01mfinally\u001b[39;00m:\n\u001b[0;32m      8\u001b[0m     \u001b[38;5;28mprint\u001b[39m(\u001b[38;5;124m\"\u001b[39m\u001b[38;5;124mThis will always execute\u001b[39m\u001b[38;5;124m\"\u001b[39m)\n\u001b[1;32m---> 10\u001b[0m \u001b[38;5;28;01mraise\u001b[39;00m \u001b[38;5;167;01mValueError\u001b[39;00m(\u001b[38;5;124m\"\u001b[39m\u001b[38;5;124mManually raised error\u001b[39m\u001b[38;5;124m\"\u001b[39m)\n",
      "\u001b[1;31mValueError\u001b[0m: Manually raised error"
     ]
    }
   ],
   "source": [
    "try:\n",
    "    x = 10 / 2\n",
    "except ZeroDivisionError:\n",
    "    print(\"Error: Division by zero\")\n",
    "else:\n",
    "    print(\"No error, result is:\", x)\n",
    "finally:\n",
    "    print(\"This will always execute\")\n",
    "    \n",
    "raise ValueError(\"Manually raised error\")\n"
   ]
  },
  {
   "cell_type": "markdown",
   "id": "f323bec4-69ee-4351-b700-933581cd848d",
   "metadata": {},
   "source": [
    "## Q5. What are Custom Exceptions in python? Who do we need Custom Exceptions? Explcin with an examples"
   ]
  },
  {
   "cell_type": "markdown",
   "id": "a917bea5-5247-4f44-aaec-4e546745d39c",
   "metadata": {},
   "source": [
    "Custom exceptions in Python are user-defined errors created by inheriting the Exception class. We need them to define specific error conditions for better control and clarity in handling exceptions in our programs."
   ]
  },
  {
   "cell_type": "code",
   "execution_count": 12,
   "id": "f5c918f8-2bd7-434c-8d4f-93d3293eab18",
   "metadata": {
    "scrolled": true
   },
   "outputs": [
    {
     "ename": "MyCustomError",
     "evalue": "Value cannot be negative!",
     "output_type": "error",
     "traceback": [
      "\u001b[1;31m---------------------------------------------------------------------------\u001b[0m",
      "\u001b[1;31mMyCustomError\u001b[0m                             Traceback (most recent call last)",
      "Cell \u001b[1;32mIn[12], line 8\u001b[0m\n\u001b[0;32m      5\u001b[0m     \u001b[38;5;28;01mif\u001b[39;00m x \u001b[38;5;241m<\u001b[39m \u001b[38;5;241m0\u001b[39m:\n\u001b[0;32m      6\u001b[0m         \u001b[38;5;28;01mraise\u001b[39;00m MyCustomError(\u001b[38;5;124m\"\u001b[39m\u001b[38;5;124mValue cannot be negative!\u001b[39m\u001b[38;5;124m\"\u001b[39m)\n\u001b[1;32m----> 8\u001b[0m check_value(\u001b[38;5;241m-\u001b[39m\u001b[38;5;241m1\u001b[39m)\n",
      "Cell \u001b[1;32mIn[12], line 6\u001b[0m, in \u001b[0;36mcheck_value\u001b[1;34m(x)\u001b[0m\n\u001b[0;32m      4\u001b[0m \u001b[38;5;28;01mdef\u001b[39;00m \u001b[38;5;21mcheck_value\u001b[39m(x):\n\u001b[0;32m      5\u001b[0m     \u001b[38;5;28;01mif\u001b[39;00m x \u001b[38;5;241m<\u001b[39m \u001b[38;5;241m0\u001b[39m:\n\u001b[1;32m----> 6\u001b[0m         \u001b[38;5;28;01mraise\u001b[39;00m MyCustomError(\u001b[38;5;124m\"\u001b[39m\u001b[38;5;124mValue cannot be negative!\u001b[39m\u001b[38;5;124m\"\u001b[39m)\n",
      "\u001b[1;31mMyCustomError\u001b[0m: Value cannot be negative!"
     ]
    }
   ],
   "source": [
    "class MyCustomError(Exception):\n",
    "    pass\n",
    "\n",
    "def check_value(x):\n",
    "    if x < 0:\n",
    "        raise MyCustomError(\"Value cannot be negative!\")\n",
    "\n",
    "check_value(-1) \n"
   ]
  },
  {
   "cell_type": "markdown",
   "id": "002909e8-c4c8-4dff-b558-58c0a817f1a6",
   "metadata": {},
   "source": [
    "## Q6. Create a ,custom exception ,class. Use this ,alass to handle an exception.\n"
   ]
  },
  {
   "cell_type": "code",
   "execution_count": 14,
   "id": "b28022a5-7abb-42a4-bd51-6cc6a5ea459d",
   "metadata": {},
   "outputs": [
    {
     "name": "stdout",
     "output_type": "stream",
     "text": [
      "Negative numbers are not allowed\n"
     ]
    }
   ],
   "source": [
    "\n",
    "class NegativeNumberError(Exception):\n",
    "    def __init__(self, message=\"Negative numbers are not allowed\"):\n",
    "        self.message = message\n",
    "        super().__init__(self.message)\n",
    "\n",
    "def check_positive(num):\n",
    "    if num < 0:\n",
    "        raise NegativeNumberError  \n",
    "    else:\n",
    "        print(\"The number is positive:\", num)\n",
    "\n",
    "try:\n",
    "    check_positive(-5)  \n",
    "except NegativeNumberError as e:\n",
    "    print(e) \n"
   ]
  },
  {
   "cell_type": "code",
   "execution_count": null,
   "id": "52740dd3-ae9f-458f-b213-b0304636bb44",
   "metadata": {},
   "outputs": [],
   "source": []
  }
 ],
 "metadata": {
  "kernelspec": {
   "display_name": "Python 3 (ipykernel)",
   "language": "python",
   "name": "python3"
  },
  "language_info": {
   "codemirror_mode": {
    "name": "ipython",
    "version": 3
   },
   "file_extension": ".py",
   "mimetype": "text/x-python",
   "name": "python",
   "nbconvert_exporter": "python",
   "pygments_lexer": "ipython3",
   "version": "3.12.4"
  }
 },
 "nbformat": 4,
 "nbformat_minor": 5
}
