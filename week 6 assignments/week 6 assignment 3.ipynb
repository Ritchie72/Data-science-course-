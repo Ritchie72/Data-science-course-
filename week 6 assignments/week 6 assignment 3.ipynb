{
 "cells": [
  {
   "cell_type": "markdown",
   "id": "64185a55-36d7-4e0a-815f-7d75226764f5",
   "metadata": {},
   "source": [
    "## Q1. What is an API? Give an example, where an API is used in real life."
   ]
  },
  {
   "cell_type": "markdown",
   "id": "683d6a87-4912-42f6-aa37-76bc21e5db4f",
   "metadata": {},
   "source": [
    "An API (Application Programming Interface) is a set of rules that allows one software application to interact with another. For example, weather apps use APIs to fetch real-time data from weather services."
   ]
  },
  {
   "cell_type": "markdown",
   "id": "6fb589da-b90b-4af9-bf78-483a46592245",
   "metadata": {},
   "source": [
    "## Q2. Give advantages and disadvantages of using API. "
   ]
  },
  {
   "cell_type": "markdown",
   "id": "9c366159-a7d7-4335-a1ab-5ac4ebe9aa00",
   "metadata": {},
   "source": [
    "Advantages: APIs enable seamless integration between systems and automate processes.\n",
    "Disadvantages: APIs can have security vulnerabilities and require consistent updates to maintain compatibility."
   ]
  },
  {
   "cell_type": "markdown",
   "id": "ed8edb3e-ea71-4497-bb42-f3ccf628194d",
   "metadata": {},
   "source": [
    "## Q3. What is a Web API? Differentiate between API and Web API."
   ]
  },
  {
   "cell_type": "markdown",
   "id": "4c4efd9f-211b-45d4-a4f2-5d3c7c900743",
   "metadata": {},
   "source": [
    "A Web API is an API specifically designed to interact with web-based systems using HTTP protocols.\n",
    "While APIs can operate across various platforms, a Web API is limited to web-based applications and services."
   ]
  },
  {
   "cell_type": "markdown",
   "id": "23af9c04-50e1-4dae-a506-9c0a51e6dab9",
   "metadata": {},
   "source": [
    "## Q4. Explain REST and SOAP Architecture. Mention shortcomings of SOAP. "
   ]
  },
  {
   "cell_type": "markdown",
   "id": "01fd49d3-c12b-4e5c-a0b9-c819dbd6b0b8",
   "metadata": {},
   "source": [
    "REST (Representational State Transfer) is a lightweight architecture using simple HTTP requests for communication, while SOAP (Simple Object Access Protocol) is a protocol that relies on XML messaging for communication.\n",
    "SOAP's shortcomings include being more complex, slower due to XML parsing, and less flexible compared to REST."
   ]
  },
  {
   "cell_type": "markdown",
   "id": "bcc420c2-df1a-4c76-a9f8-baa006b6b530",
   "metadata": {},
   "source": [
    "## Q5. Differentiate between REST and SOAP."
   ]
  },
  {
   "cell_type": "markdown",
   "id": "ca5c3e23-671a-4ef3-93ff-a80af80dcc65",
   "metadata": {},
   "source": [
    "REST is lightweight, uses various formats (JSON, XML), and is stateless, making it faster and simpler.\n",
    "SOAP is protocol-based, relies on XML, and supports more security features but is slower and more complex than REST."
   ]
  }
 ],
 "metadata": {
  "kernelspec": {
   "display_name": "Python 3 (ipykernel)",
   "language": "python",
   "name": "python3"
  },
  "language_info": {
   "codemirror_mode": {
    "name": "ipython",
    "version": 3
   },
   "file_extension": ".py",
   "mimetype": "text/x-python",
   "name": "python",
   "nbconvert_exporter": "python",
   "pygments_lexer": "ipython3",
   "version": "3.12.4"
  }
 },
 "nbformat": 4,
 "nbformat_minor": 5
}
