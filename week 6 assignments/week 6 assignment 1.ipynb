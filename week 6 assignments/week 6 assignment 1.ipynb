{
 "cells": [
  {
   "cell_type": "markdown",
   "id": "ec3f5375-6ea8-43cb-98ce-41c52b66cdd2",
   "metadata": {},
   "source": [
    "## Q1. What is a database? Differentiate between SQL and NoSQL databases."
   ]
  },
  {
   "cell_type": "markdown",
   "id": "8912c716-6986-491f-9c0e-1dd9845d0134",
   "metadata": {},
   "source": [
    "A database is an organized collection of data that can be easily accessed, managed, and updated. SQL databases are relational and use structured schemas,While NOSQL databases are non-relational, use document-based."
   ]
  },
  {
   "cell_type": "markdown",
   "id": "030ca999-211a-4dfa-b182-1180283d5721",
   "metadata": {},
   "source": [
    "## Q2. What is DDL? Explain why CREATE, DROP, ALTER, and TRUNCATE are used with an example."
   ]
  },
  {
   "cell_type": "markdown",
   "id": "9b624315-6e92-489b-affa-90f4ec0ed105",
   "metadata": {},
   "source": [
    "DDL (Data Definition Language) is used to define and manage database structures like tables and schemas. CREATE, DROP, ALTER, and TRUNCATE are used to create, delete, modify, and remove all data from a table, respectively, e.g., CREATE TABLE students (id INT);, DROP TABLE students;, ALTER TABLE students ADD name VARCHAR(50);, TRUNCATE TABLE students;"
   ]
  },
  {
   "cell_type": "markdown",
   "id": "8178c697-e148-497d-be10-5805cafec5a7",
   "metadata": {},
   "source": [
    "## Q3. What is DML? Explain INSERT, UPDATE, and DELETE with an example."
   ]
  },
  {
   "cell_type": "markdown",
   "id": "f99e03aa-49b4-4ae8-b461-d4f6e76e22ab",
   "metadata": {},
   "source": [
    "DML (Data Manipulation Language) is used to modify data in a database. INSERT adds data, UPDATE modifies existing data, and DELETE removes data, e.g., INSERT INTO students (id, name) VALUES (1, 'Harshu');, UPDATE students SET name = 'Harsha' WHERE id = 1;, DELETE FROM students WHERE id = 1;."
   ]
  },
  {
   "cell_type": "markdown",
   "id": "2202a64d-4ed9-4f4b-af48-8df308b8309a",
   "metadata": {},
   "source": [
    "## Q4. What is DQL? Explain SELECT with an example."
   ]
  },
  {
   "cell_type": "markdown",
   "id": "9261feb9-f7dd-4a3d-ac9b-264335bf903f",
   "metadata": {},
   "source": [
    "DQL (Data Query Language) is used to retrieve data from a database. The SELECT statement is used to query data, e.g., SELECT name FROM students WHERE id = 1; retrieves the name of the student with id 1."
   ]
  },
  {
   "cell_type": "markdown",
   "id": "e56a6428-eb49-4452-8aa4-3765c8adf085",
   "metadata": {},
   "source": [
    "## Q5. Explain Primary Key and Foreign Key."
   ]
  },
  {
   "cell_type": "markdown",
   "id": "816aacd1-a97a-471f-b93b-44d5671b74eb",
   "metadata": {},
   "source": [
    "A Primary Key uniquely identifies each record in a table, ensuring no duplicate values. A Foreign Key is a field in one table that links to the Primary Key in another table, establishing a relationship between the two tables."
   ]
  },
  {
   "cell_type": "markdown",
   "id": "3be12fbc-fba5-491a-a812-01267b318662",
   "metadata": {},
   "source": [
    "## Q6. Write a python code to connect MySQL to python. Explain the cursor() and execute() method."
   ]
  },
  {
   "cell_type": "code",
   "execution_count": 6,
   "id": "f712fa64-6957-4170-8eaa-a984538bc26d",
   "metadata": {},
   "outputs": [
    {
     "ename": "ModuleNotFoundError",
     "evalue": "No module named 'mysql'",
     "output_type": "error",
     "traceback": [
      "\u001b[1;31m---------------------------------------------------------------------------\u001b[0m",
      "\u001b[1;31mModuleNotFoundError\u001b[0m                       Traceback (most recent call last)",
      "Cell \u001b[1;32mIn[6], line 1\u001b[0m\n\u001b[1;32m----> 1\u001b[0m \u001b[38;5;28;01mimport\u001b[39;00m \u001b[38;5;21;01mmysql\u001b[39;00m\u001b[38;5;21;01m.\u001b[39;00m\u001b[38;5;21;01mconnector\u001b[39;00m\n\u001b[0;32m      2\u001b[0m connection \u001b[38;5;241m=\u001b[39m mysql\u001b[38;5;241m.\u001b[39mconnector\u001b[38;5;241m.\u001b[39mconnect(\n\u001b[0;32m      3\u001b[0m     host\u001b[38;5;241m=\u001b[39m\u001b[38;5;124m\"\u001b[39m\u001b[38;5;124mlocalhost\u001b[39m\u001b[38;5;124m\"\u001b[39m,     \n\u001b[0;32m      4\u001b[0m     user\u001b[38;5;241m=\u001b[39m\u001b[38;5;124m\"\u001b[39m\u001b[38;5;124myour_username\u001b[39m\u001b[38;5;124m\"\u001b[39m, \n\u001b[0;32m      5\u001b[0m     password\u001b[38;5;241m=\u001b[39m\u001b[38;5;124m\"\u001b[39m\u001b[38;5;124myour_password\u001b[39m\u001b[38;5;124m\"\u001b[39m, \n\u001b[0;32m      6\u001b[0m     database\u001b[38;5;241m=\u001b[39m\u001b[38;5;124m\"\u001b[39m\u001b[38;5;124myour_database\u001b[39m\u001b[38;5;124m\"\u001b[39m  \n\u001b[0;32m      7\u001b[0m )\n\u001b[0;32m      9\u001b[0m cursor \u001b[38;5;241m=\u001b[39m connection\u001b[38;5;241m.\u001b[39mcursor()\n",
      "\u001b[1;31mModuleNotFoundError\u001b[0m: No module named 'mysql'"
     ]
    }
   ],
   "source": [
    "import mysql.connector\n",
    "connection = mysql.connector.connect(\n",
    "    host=\"localhost\",     \n",
    "    user=\"your_username\", \n",
    "    password=\"your_password\", \n",
    "    database=\"your_database\"  \n",
    ")\n",
    "\n",
    "cursor = connection.cursor()\n",
    "cursor.execute(\"SELECT * FROM your_table\")\n",
    "results = cursor.fetchall()\n",
    "for row in results:\n",
    "    print(row)\n",
    "cursor.close()\n",
    "connection.close()\n"
   ]
  },
  {
   "cell_type": "markdown",
   "id": "60dc0885-6a77-4956-8437-27c6ed61d23b",
   "metadata": {},
   "source": [
    "cursor() method:\n",
    "The cursor() method creates a cursor object, which is used to interact with the database. It acts as a pointer to the database, allowing you to execute queries and fetch data.\n",
    "\n",
    "execute() method:\n",
    "The execute() method is used to run SQL queries through the cursor object. It executes the SQL command passed to it (e.g., SELECT, INSERT, UPDATE, etc.)."
   ]
  },
  {
   "cell_type": "markdown",
   "id": "be855c74-b844-4dd6-8b79-79b1717d894c",
   "metadata": {},
   "source": [
    "## Q7. Give the order of execution of SQL clauses in an SQL query."
   ]
  },
  {
   "cell_type": "markdown",
   "id": "947fa54b-4c6b-4922-ba37-40183176f20c",
   "metadata": {},
   "source": [
    "The order of execution of SQL clauses is:\n",
    "FROM → WHERE → GROUP BY → HAVING → SELECT → ORDER BY → LIMIT."
   ]
  }
 ],
 "metadata": {
  "kernelspec": {
   "display_name": "Python 3 (ipykernel)",
   "language": "python",
   "name": "python3"
  },
  "language_info": {
   "codemirror_mode": {
    "name": "ipython",
    "version": 3
   },
   "file_extension": ".py",
   "mimetype": "text/x-python",
   "name": "python",
   "nbconvert_exporter": "python",
   "pygments_lexer": "ipython3",
   "version": "3.12.4"
  }
 },
 "nbformat": 4,
 "nbformat_minor": 5
}
