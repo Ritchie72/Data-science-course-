{
 "cells": [
  {
   "cell_type": "markdown",
   "id": "75d2bc82-ae46-4796-8acc-d9582befbbbe",
   "metadata": {},
   "source": [
    "## Q1. What is MongoDB? Explain non-relational databases in short. In which scenarios it is preferred to use MongoDB over SQL databases?"
   ]
  },
  {
   "cell_type": "markdown",
   "id": "4c780347-5606-4c9d-9f8f-af5f4fefd584",
   "metadata": {},
   "source": [
    "MongoDB is a non-relational, document-oriented database that stores data in JSON-like format, making it flexible and scalable. It is preferred over SQL databases when dealing with large volumes of unstructured data, or when the schema needs to be flexible and quickly adaptable."
   ]
  },
  {
   "cell_type": "markdown",
   "id": "c2008d41-f970-4dfc-961f-78bf46330a9f",
   "metadata": {},
   "source": [
    "## Q2. State and Explain the features of MongoDB."
   ]
  },
  {
   "cell_type": "markdown",
   "id": "b9bae114-ad7e-4a6b-b9cc-42ca8e2647f7",
   "metadata": {},
   "source": [
    "MongoDB features include flexible schema design, allowing dynamic changes to data structure, and high scalability, supporting horizontal scaling through sharding. It also provides powerful querying, indexing, and replication for data redundancy and fault tolerance."
   ]
  },
  {
   "cell_type": "markdown",
   "id": "df33010c-631b-45d7-920b-82db45949437",
   "metadata": {},
   "source": [
    "## Q3. Write a code to connect MongoDB to Python. Also, create a database and a collection in MongoDB."
   ]
  },
  {
   "cell_type": "code",
   "execution_count": null,
   "id": "db1066e2-5153-4451-a022-d06c521cbf20",
   "metadata": {},
   "outputs": [],
   "source": []
  },
  {
   "cell_type": "markdown",
   "id": "95d9762e-a21f-48d8-a9f9-3840f45ad0fe",
   "metadata": {},
   "source": [
    "## Q4. Using the database and the collection created in question number 3, write a code to insert one record, and insert many records. Use the find() and find_one() methods to print the inserted record."
   ]
  },
  {
   "cell_type": "code",
   "execution_count": null,
   "id": "5350e19b-2b47-4a2c-8b4a-6a672ae2fc91",
   "metadata": {},
   "outputs": [],
   "source": []
  },
  {
   "cell_type": "markdown",
   "id": "1ea4c0c8-0f67-4257-9df0-96089c5c6acd",
   "metadata": {},
   "source": [
    "## Q5. Explain how you can use the find() method to query the MongoDB database. Write a simple code to demonstrate this."
   ]
  },
  {
   "cell_type": "code",
   "execution_count": null,
   "id": "902507dc-8ce7-4e36-924a-8206fe60b7a1",
   "metadata": {},
   "outputs": [],
   "source": []
  },
  {
   "cell_type": "markdown",
   "id": "93953bee-a93a-46dc-8b21-a4af423b2320",
   "metadata": {},
   "source": [
    "## Q6. Explain the sort() method. Give an example to demonstrate sorting in MongoDB."
   ]
  },
  {
   "cell_type": "code",
   "execution_count": null,
   "id": "2c9bfcf0-f23b-494c-8b90-a90b1aad1ba9",
   "metadata": {},
   "outputs": [],
   "source": []
  },
  {
   "cell_type": "markdown",
   "id": "d9a1222b-7e99-4828-9ce0-daa767ff4afd",
   "metadata": {},
   "source": [
    "## Q7. Explain why delete_one(), delete_many(), and drop() is used. "
   ]
  },
  {
   "cell_type": "code",
   "execution_count": null,
   "id": "439923ea-039d-42b9-914b-eea71cf81e0b",
   "metadata": {},
   "outputs": [],
   "source": []
  }
 ],
 "metadata": {
  "kernelspec": {
   "display_name": "Python 3 (ipykernel)",
   "language": "python",
   "name": "python3"
  },
  "language_info": {
   "codemirror_mode": {
    "name": "ipython",
    "version": 3
   },
   "file_extension": ".py",
   "mimetype": "text/x-python",
   "name": "python",
   "nbconvert_exporter": "python",
   "pygments_lexer": "ipython3",
   "version": "3.12.4"
  }
 },
 "nbformat": 4,
 "nbformat_minor": 5
}
