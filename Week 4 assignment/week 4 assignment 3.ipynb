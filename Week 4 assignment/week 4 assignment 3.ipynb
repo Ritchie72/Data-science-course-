{
 "cells": [
  {
   "cell_type": "markdown",
   "id": "b64d55cf-d294-4039-89bc-3ba222377cf6",
   "metadata": {},
   "source": [
    "## Q1. What is Abstraction in OOps? Explain with an example."
   ]
  },
  {
   "cell_type": "markdown",
   "id": "85fed43b-5eee-4011-9791-abc6068a231a",
   "metadata": {},
   "source": [
    "Abstraction in OOP refers to hiding the internal details and showing only the essential features of an object. It simplifies complex systems by allowing users to interact with functionality without understanding the underlying implementation."
   ]
  },
  {
   "cell_type": "code",
   "execution_count": 4,
   "id": "ded6ddd7-c05f-4dad-9056-c179194ef43e",
   "metadata": {},
   "outputs": [],
   "source": [
    "import abc\n",
    "class shape():\n",
    "    @abc.abstractmethod\n",
    "    def area(self):\n",
    "        pass"
   ]
  },
  {
   "cell_type": "code",
   "execution_count": 6,
   "id": "5c717a01-400d-4973-9f9f-461bc11deb78",
   "metadata": {},
   "outputs": [],
   "source": [
    "class circle(shape):\n",
    "    def __init__ (self,radius):\n",
    "        self.radius = radius\n",
    "    def area(self):\n",
    "        return 3.14*self.radius*self.radius"
   ]
  },
  {
   "cell_type": "code",
   "execution_count": 8,
   "id": "ad4cd254-2339-44b5-98f3-92cbe102ab0e",
   "metadata": {},
   "outputs": [
    {
     "name": "stdout",
     "output_type": "stream",
     "text": [
      "78.5\n"
     ]
    }
   ],
   "source": [
    "c = circle(5)\n",
    "print(c.area())"
   ]
  },
  {
   "cell_type": "markdown",
   "id": "46d18640-34fb-42ce-aa8b-9e8f279927b2",
   "metadata": {},
   "source": [
    "## Q2. Differentiate between Abstraction and Encapsulation. Explain with an example."
   ]
  },
  {
   "cell_type": "markdown",
   "id": "d82f8c75-5321-408d-bbc0-44d5aec0f6ea",
   "metadata": {},
   "source": [
    "Encapsulation is about bundling data and methods that operate on the data within a single unit (class) and restricting access to some of the object's components."
   ]
  },
  {
   "cell_type": "code",
   "execution_count": 20,
   "id": "322c2f15-2f3c-483f-8df7-3f4d50e4cd45",
   "metadata": {},
   "outputs": [],
   "source": [
    "class Account:\n",
    "    def __init__(self, balance):\n",
    "        self.__balance = balance  \n",
    "\n",
    "    def deposit(self, amount):\n",
    "        self.__balance += amount  \n",
    "\n",
    "    def get_balance(self):\n",
    "        return self.__balance  \n"
   ]
  },
  {
   "cell_type": "markdown",
   "id": "f2fa9a3c-5219-4c3b-91f9-7b6c4abcdc34",
   "metadata": {},
   "source": [
    "Abstraction focuses on hiding complexity and exposing only the essential features of an object, helping users interact with functionality without understanding the internal workings."
   ]
  },
  {
   "cell_type": "code",
   "execution_count": 23,
   "id": "be2dd05d-31e8-4a1b-825d-cc99fb97f76b",
   "metadata": {},
   "outputs": [],
   "source": [
    "import abc\n",
    "class Payment():\n",
    "    @abc.abstractmethod\n",
    "    def pay(self, amount):\n",
    "        pass\n",
    "\n",
    "class CreditCardPayment(Payment):\n",
    "    def pay(self, amount):\n",
    "        print(f\"Paid {amount} using credit card.\")\n"
   ]
  },
  {
   "cell_type": "markdown",
   "id": "9d985ffc-85d1-4f7b-986b-ebe1ccc29ace",
   "metadata": {},
   "source": [
    "## Q3. What is abc module in python? Why is it used?"
   ]
  },
  {
   "cell_type": "markdown",
   "id": "fd002578-0545-43b6-8514-faab7f4777be",
   "metadata": {},
   "source": [
    "The abc (Abstract Base Class) module in Python provides a framework for defining abstract base classes. It is used to enforce that certain methods must be implemented in derived classes, ensuring consistent method signatures across subclasses."
   ]
  },
  {
   "cell_type": "markdown",
   "id": "a46fbe76-e931-41ed-bb2f-def53deef6c2",
   "metadata": {},
   "source": [
    "## Q4. How can we achieve data abstraction?"
   ]
  },
  {
   "cell_type": "markdown",
   "id": "921ea82c-f2c9-477e-b1cb-5853cc0f1e67",
   "metadata": {},
   "source": [
    "We achieve data abstraction in Python by using abstract classes and methods (defined with the abc module), or by hiding internal details through encapsulation, providing only essential interfaces for interaction."
   ]
  },
  {
   "cell_type": "markdown",
   "id": "8b5e244e-de15-452f-bdaf-292886f79bec",
   "metadata": {},
   "source": [
    "## Q5. Can we create an instance of an abstract class? Explain your answer."
   ]
  },
  {
   "cell_type": "markdown",
   "id": "41de985d-7916-4605-afdd-8673863a24d5",
   "metadata": {},
   "source": [
    "No, we cannot create an instance of an abstract class because it contains abstract methods that have no implementation. Abstract classes are meant to be inherited by subclasses that provide concrete implementations."
   ]
  }
 ],
 "metadata": {
  "kernelspec": {
   "display_name": "Python 3 (ipykernel)",
   "language": "python",
   "name": "python3"
  },
  "language_info": {
   "codemirror_mode": {
    "name": "ipython",
    "version": 3
   },
   "file_extension": ".py",
   "mimetype": "text/x-python",
   "name": "python",
   "nbconvert_exporter": "python",
   "pygments_lexer": "ipython3",
   "version": "3.12.4"
  }
 },
 "nbformat": 4,
 "nbformat_minor": 5
}
