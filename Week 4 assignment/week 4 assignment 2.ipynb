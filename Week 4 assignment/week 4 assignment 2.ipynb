{
 "cells": [
  {
   "cell_type": "markdown",
   "id": "ede9cf1b-7a52-4903-905b-72ccae74dfe7",
   "metadata": {},
   "source": [
    "## Q1. Explain Class and Object with respect to Object-Oriented Programming. Give a suitable example."
   ]
  },
  {
   "cell_type": "markdown",
   "id": "7282055a-e938-4c99-a9f5-1e6e0c993445",
   "metadata": {},
   "source": [
    "A class in Object-Oriented Programming (OOP) is a blueprint for creating objects, defining attributes and behaviors. An object is an instance of a class that holds specific data and can perform functions defined by the class."
   ]
  },
  {
   "cell_type": "code",
   "execution_count": 2,
   "id": "9b9a7f11-de0e-4dc7-aea2-e5f43cf779a1",
   "metadata": {},
   "outputs": [],
   "source": [
    "class Car:\n",
    "    def __init__(self, brand, model):\n",
    "        self.brand = brand\n",
    "        self.model = model\n",
    "\n",
    "my_car = Car(\"Toyota\", \"Corolla\")\n"
   ]
  },
  {
   "cell_type": "markdown",
   "id": "6af3f0c7-28e5-46d1-8235-bb3ac778710c",
   "metadata": {},
   "source": [
    "## Q2. Name the four pillars of OOPs"
   ]
  },
  {
   "cell_type": "markdown",
   "id": "e0267a43-e2e9-4909-bba2-5cd33e6a34ac",
   "metadata": {},
   "source": [
    "Encapsulation\n",
    "Abstraction\n",
    "Inheritance\n",
    "Polymorphism"
   ]
  },
  {
   "cell_type": "markdown",
   "id": "92714110-dd02-4394-b664-227122219617",
   "metadata": {},
   "source": [
    "## Q3. Explain why the __init__() function is used. Give a suitable example."
   ]
  },
  {
   "cell_type": "markdown",
   "id": "2c54ddf5-c9d0-48da-b738-400b3a755ebc",
   "metadata": {},
   "source": [
    "The __init__() function is a constructor used to initialize an object's attributes when an instance of the class is created. It sets the initial state of the object."
   ]
  },
  {
   "cell_type": "code",
   "execution_count": 6,
   "id": "f42f52ed-5cc5-4242-9457-93ea40e5db6b",
   "metadata": {},
   "outputs": [],
   "source": [
    "class Person:\n",
    "    def __init__(self, name, age):\n",
    "        self.name = name\n",
    "        self.age = age\n",
    "\n",
    "p1 = Person(\"John\", 25)\n"
   ]
  },
  {
   "cell_type": "markdown",
   "id": "3c4c865d-e0f6-4da9-bd39-febc563f83c3",
   "metadata": {},
   "source": [
    "## Q4. Why self is used in OOPs?"
   ]
  },
  {
   "cell_type": "markdown",
   "id": "5bbb25c8-bd19-47c8-a4f6-6659d34ffdcd",
   "metadata": {},
   "source": [
    "In OOP, self refers to the instance of the class and is used to access the attributes and methods of the class within its methods. It allows each object to maintain its own data."
   ]
  },
  {
   "cell_type": "markdown",
   "id": "1cac30a8-379b-4924-8bf3-a32856b9addc",
   "metadata": {},
   "source": [
    "## Q5. What is inheritance? Give an example for each type of inheritance."
   ]
  },
  {
   "cell_type": "markdown",
   "id": "347007ea-31b9-444b-9aa5-40b47cba1d9e",
   "metadata": {},
   "source": [
    "Inheritance allows one class (child class) to inherit properties and behaviors from another class (parent class), promoting code reusability. Types include single, multiple, multilevel, hierarchical, and hybrid inheritance."
   ]
  },
  {
   "cell_type": "markdown",
   "id": "50693f23-4490-4390-b867-52d8ed601cc0",
   "metadata": {},
   "source": [
    "Multiple Inheritance"
   ]
  },
  {
   "cell_type": "code",
   "execution_count": 12,
   "id": "aee0c842-f367-474c-8089-6fd0e45f7013",
   "metadata": {},
   "outputs": [],
   "source": [
    "class A:\n",
    "    pass\n",
    "\n",
    "class B:\n",
    "    pass\n",
    "\n",
    "class C(A, B):\n",
    "    pass\n"
   ]
  },
  {
   "cell_type": "markdown",
   "id": "93be073d-2986-47a0-869f-312773b2d7b4",
   "metadata": {},
   "source": [
    "Multilevel Inheritance"
   ]
  },
  {
   "cell_type": "code",
   "execution_count": 15,
   "id": "d623e3ab-aeb1-4ce5-bc20-813578a22446",
   "metadata": {},
   "outputs": [],
   "source": [
    "class Vehicle:\n",
    "    pass\n",
    "\n",
    "class Car(Vehicle):\n",
    "    pass\n",
    "\n",
    "class SportsCar(Car):\n",
    "    pass\n"
   ]
  }
 ],
 "metadata": {
  "kernelspec": {
   "display_name": "Python 3 (ipykernel)",
   "language": "python",
   "name": "python3"
  },
  "language_info": {
   "codemirror_mode": {
    "name": "ipython",
    "version": 3
   },
   "file_extension": ".py",
   "mimetype": "text/x-python",
   "name": "python",
   "nbconvert_exporter": "python",
   "pygments_lexer": "ipython3",
   "version": "3.12.4"
  }
 },
 "nbformat": 4,
 "nbformat_minor": 5
}
