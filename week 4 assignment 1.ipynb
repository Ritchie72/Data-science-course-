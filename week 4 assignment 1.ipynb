{
 "cells": [
  {
   "cell_type": "markdown",
   "id": "26df2367-3859-4df7-9534-53441b8b8f8b",
   "metadata": {},
   "source": [
    "## Q1, Create a vehicle class with an init method having instance variables as name_of_vehicle, max_speed and average_of_vehicle. "
   ]
  },
  {
   "cell_type": "code",
   "execution_count": 1,
   "id": "d19dc955-898b-48c2-9343-e90227b097cf",
   "metadata": {},
   "outputs": [],
   "source": [
    "class vechile:\n",
    "    def __init__(self,name_of_vechile,max_speed,average_of_vehicle):\n",
    "        self.name_of_vechile = name_of_vechile\n",
    "        self.max_speed = max_speed\n",
    "        self.average_of_vehicle = average_of_vehicle"
   ]
  },
  {
   "cell_type": "markdown",
   "id": "7a51b0c0-2999-4982-ae35-787611166080",
   "metadata": {},
   "source": [
    "## Q2.  Create a child class car from the vehicle class created in Que 1, which will inherit the vehicle class. Create a method named seating_capacity which takes capacity as an argument and returns the name of the vehicle and its seating capacity."
   ]
  },
  {
   "cell_type": "code",
   "execution_count": 3,
   "id": "9a331428-45ac-46aa-8eba-8f80c6248000",
   "metadata": {},
   "outputs": [],
   "source": [
    "class car(vechile):\n",
    "    def seating_capacity(self,capacity):\n",
    "        self.capacity = capacity\n",
    "        return self.name_of_vechile, self.capacity"
   ]
  },
  {
   "cell_type": "markdown",
   "id": "210bae5a-5f58-41e4-9f49-c1e31131a443",
   "metadata": {},
   "source": [
    "## Q3. What is multiple inheritance? Write a python code to demonstrate multiple inheritance."
   ]
  },
  {
   "cell_type": "markdown",
   "id": "e9b6fe91-37c7-42e6-8fad-f54b1bb109a0",
   "metadata": {},
   "source": [
    "Multiple inheritance is a feature in object-oriented programming where a class can inherit from more than one parent class, gaining the attributes and methods of all. This allows the child class to use functionality from multiple sources."
   ]
  },
  {
   "cell_type": "code",
   "execution_count": 58,
   "id": "2b8a2ead-e5fc-4368-9bdd-555f9885ee90",
   "metadata": {},
   "outputs": [],
   "source": [
    "class class1:\n",
    "    def test_class1():\n",
    "        print(\"This is a class1\")"
   ]
  },
  {
   "cell_type": "code",
   "execution_count": 60,
   "id": "eaa30187-eab0-41ce-86eb-fe934b804c4f",
   "metadata": {},
   "outputs": [],
   "source": [
    "class class2:\n",
    "    def test_class2(self):\n",
    "        print(\"This is a class2\")"
   ]
  },
  {
   "cell_type": "code",
   "execution_count": 62,
   "id": "c0659fb4-2639-4e31-a68e-9b4411c0b6a1",
   "metadata": {},
   "outputs": [],
   "source": [
    "class class3(class1,class2):\n",
    "    pass"
   ]
  },
  {
   "cell_type": "code",
   "execution_count": 64,
   "id": "902eb272-b610-4f71-8cef-06c739a71fc4",
   "metadata": {},
   "outputs": [],
   "source": [
    "obj = class3()\n"
   ]
  },
  {
   "cell_type": "code",
   "execution_count": 66,
   "id": "a994b1fd-ed9b-4426-8eeb-9ec628b8e266",
   "metadata": {},
   "outputs": [
    {
     "name": "stdout",
     "output_type": "stream",
     "text": [
      "This is a class1\n"
     ]
    }
   ],
   "source": [
    "class3.test_class1()"
   ]
  },
  {
   "cell_type": "markdown",
   "id": "a21365ae-5e0c-405f-be08-2b8db47b30ac",
   "metadata": {},
   "source": [
    "## Q4. What are getter and setter in python? Create a class and create a getter and a setter method in this class."
   ]
  },
  {
   "cell_type": "code",
   "execution_count": 69,
   "id": "f3fcac66-e38e-4cbc-afcc-12159894b6ae",
   "metadata": {},
   "outputs": [],
   "source": [
    "class phone_number:\n",
    "    def __init__(self,phone_number):\n",
    "        self.phone_number = phone_number\n",
    "    def getter(self):\n",
    "        return self.phone_number\n",
    "    def setter(self,new_number):\n",
    "        self.phone_number = new_number\n",
    "        return self.phone_number\n",
    "        "
   ]
  },
  {
   "cell_type": "code",
   "execution_count": 71,
   "id": "094f2e39-2bfe-4aa2-bbb9-8328153d7bf5",
   "metadata": {},
   "outputs": [],
   "source": [
    "obj = phone_number(9511764800)"
   ]
  },
  {
   "cell_type": "code",
   "execution_count": 75,
   "id": "2534a903-9f90-4bd8-8cbb-0fea9625c261",
   "metadata": {},
   "outputs": [
    {
     "data": {
      "text/plain": [
       "9511764800"
      ]
     },
     "execution_count": 75,
     "metadata": {},
     "output_type": "execute_result"
    }
   ],
   "source": [
    "obj.getter()"
   ]
  },
  {
   "cell_type": "code",
   "execution_count": 77,
   "id": "9d7bc1bb-3da8-485d-b33f-08ddb5911840",
   "metadata": {},
   "outputs": [
    {
     "data": {
      "text/plain": [
       "9284358894"
      ]
     },
     "execution_count": 77,
     "metadata": {},
     "output_type": "execute_result"
    }
   ],
   "source": [
    "obj.setter(9284358894)"
   ]
  },
  {
   "cell_type": "markdown",
   "id": "bbdb53c2-4454-4846-a456-4a1de92d592a",
   "metadata": {},
   "source": [
    "## Q5.What is method overriding in python? Write a python code to demonstrate method overriding."
   ]
  },
  {
   "cell_type": "markdown",
   "id": "138195f2-c505-4b48-9aa9-12cf45cb8f83",
   "metadata": {},
   "source": [
    "Method overriding in Python occurs when a subclass provides a specific implementation of a method that is already defined in its superclass. The method in the subclass overrides the method in the parent class"
   ]
  },
  {
   "cell_type": "code",
   "execution_count": 80,
   "id": "724ae6f2-bb4b-4593-8f1e-36914cd53df5",
   "metadata": {},
   "outputs": [],
   "source": [
    "class Animal:\n",
    "    def speak(self):\n",
    "        print(\"This animal makes a sound\")\n",
    "\n"
   ]
  },
  {
   "cell_type": "code",
   "execution_count": 82,
   "id": "3cc1b7f1-f3fa-4b1e-b2f2-cbb5e4c92b07",
   "metadata": {},
   "outputs": [],
   "source": [
    "class Dog(Animal):\n",
    "    def speak(self):\n",
    "        print(\"This dog barks\")"
   ]
  },
  {
   "cell_type": "code",
   "execution_count": 84,
   "id": "82277b6e-fff5-40d0-83ed-07d8435c5b7e",
   "metadata": {},
   "outputs": [],
   "source": [
    "dog = Dog()"
   ]
  },
  {
   "cell_type": "code",
   "execution_count": 86,
   "id": "8084f1b8-3f29-4926-adce-4315279c109d",
   "metadata": {},
   "outputs": [
    {
     "name": "stdout",
     "output_type": "stream",
     "text": [
      "This dog barks\n"
     ]
    }
   ],
   "source": [
    "dog.speak()"
   ]
  }
 ],
 "metadata": {
  "kernelspec": {
   "display_name": "Python 3 (ipykernel)",
   "language": "python",
   "name": "python3"
  },
  "language_info": {
   "codemirror_mode": {
    "name": "ipython",
    "version": 3
   },
   "file_extension": ".py",
   "mimetype": "text/x-python",
   "name": "python",
   "nbconvert_exporter": "python",
   "pygments_lexer": "ipython3",
   "version": "3.12.4"
  }
 },
 "nbformat": 4,
 "nbformat_minor": 5
}
